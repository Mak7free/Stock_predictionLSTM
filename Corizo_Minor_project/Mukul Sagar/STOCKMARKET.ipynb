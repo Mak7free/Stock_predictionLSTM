{
 "cells": [
  {
   "cell_type": "code",
   "execution_count": 1,
   "id": "0f4f8d20-04b3-4197-9506-2eabd84dac27",
   "metadata": {},
   "outputs": [],
   "source": [
    "import numpy as np\n",
    "import pandas as pd\n",
    "import matplotlib.pyplot as plt\n",
    "import seaborn as sns"
   ]
  },
  {
   "cell_type": "markdown",
   "id": "eced1d87-95fd-46f5-a739-b4bcc0bbbf4a",
   "metadata": {},
   "source": [
    "## Data Preparation and Cleaning\n",
    "\n",
    "Here we load the data and clean it.\n"
   ]
  },
  {
   "cell_type": "code",
   "execution_count": 2,
   "id": "9681b487-d004-40e9-9b0b-3aa7b74efc6d",
   "metadata": {},
   "outputs": [
    {
     "data": {
      "text/html": [
       "<div>\n",
       "<style scoped>\n",
       "    .dataframe tbody tr th:only-of-type {\n",
       "        vertical-align: middle;\n",
       "    }\n",
       "\n",
       "    .dataframe tbody tr th {\n",
       "        vertical-align: top;\n",
       "    }\n",
       "\n",
       "    .dataframe thead th {\n",
       "        text-align: right;\n",
       "    }\n",
       "</style>\n",
       "<table border=\"1\" class=\"dataframe\">\n",
       "  <thead>\n",
       "    <tr style=\"text-align: right;\">\n",
       "      <th></th>\n",
       "      <th>Date</th>\n",
       "      <th>Open</th>\n",
       "      <th>High</th>\n",
       "      <th>Low</th>\n",
       "      <th>Close</th>\n",
       "      <th>Adj Close</th>\n",
       "      <th>Volume</th>\n",
       "    </tr>\n",
       "  </thead>\n",
       "  <tbody>\n",
       "    <tr>\n",
       "      <th>0</th>\n",
       "      <td>2018-02-05</td>\n",
       "      <td>262.000000</td>\n",
       "      <td>267.899994</td>\n",
       "      <td>250.029999</td>\n",
       "      <td>254.259995</td>\n",
       "      <td>254.259995</td>\n",
       "      <td>11896100</td>\n",
       "    </tr>\n",
       "    <tr>\n",
       "      <th>1</th>\n",
       "      <td>2018-02-06</td>\n",
       "      <td>247.699997</td>\n",
       "      <td>266.700012</td>\n",
       "      <td>245.000000</td>\n",
       "      <td>265.720001</td>\n",
       "      <td>265.720001</td>\n",
       "      <td>12595800</td>\n",
       "    </tr>\n",
       "    <tr>\n",
       "      <th>2</th>\n",
       "      <td>2018-02-07</td>\n",
       "      <td>266.579987</td>\n",
       "      <td>272.450012</td>\n",
       "      <td>264.329987</td>\n",
       "      <td>264.559998</td>\n",
       "      <td>264.559998</td>\n",
       "      <td>8981500</td>\n",
       "    </tr>\n",
       "    <tr>\n",
       "      <th>3</th>\n",
       "      <td>2018-02-08</td>\n",
       "      <td>267.079987</td>\n",
       "      <td>267.619995</td>\n",
       "      <td>250.000000</td>\n",
       "      <td>250.100006</td>\n",
       "      <td>250.100006</td>\n",
       "      <td>9306700</td>\n",
       "    </tr>\n",
       "    <tr>\n",
       "      <th>4</th>\n",
       "      <td>2018-02-09</td>\n",
       "      <td>253.850006</td>\n",
       "      <td>255.800003</td>\n",
       "      <td>236.110001</td>\n",
       "      <td>249.470001</td>\n",
       "      <td>249.470001</td>\n",
       "      <td>16906900</td>\n",
       "    </tr>\n",
       "  </tbody>\n",
       "</table>\n",
       "</div>"
      ],
      "text/plain": [
       "        Date        Open        High         Low       Close   Adj Close  \\\n",
       "0 2018-02-05  262.000000  267.899994  250.029999  254.259995  254.259995   \n",
       "1 2018-02-06  247.699997  266.700012  245.000000  265.720001  265.720001   \n",
       "2 2018-02-07  266.579987  272.450012  264.329987  264.559998  264.559998   \n",
       "3 2018-02-08  267.079987  267.619995  250.000000  250.100006  250.100006   \n",
       "4 2018-02-09  253.850006  255.800003  236.110001  249.470001  249.470001   \n",
       "\n",
       "     Volume  \n",
       "0  11896100  \n",
       "1  12595800  \n",
       "2   8981500  \n",
       "3   9306700  \n",
       "4  16906900  "
      ]
     },
     "execution_count": 2,
     "metadata": {},
     "output_type": "execute_result"
    }
   ],
   "source": [
    "#ensure excel file is in the folder with jupyter notebook\n",
    "\n",
    "path = r'C:\\Users\\iiscw\\Documents\\Stonks\\stock_market_corizo.xlsx'\n",
    "data = pd.read_excel(path)\n",
    "data.head()"
   ]
  },
  {
   "cell_type": "code",
   "execution_count": 3,
   "id": "48abf83a-258f-4326-a50b-da524ae313ef",
   "metadata": {},
   "outputs": [
    {
     "name": "stdout",
     "output_type": "stream",
     "text": [
      "<class 'pandas.core.frame.DataFrame'>\n",
      "RangeIndex: 1009 entries, 0 to 1008\n",
      "Data columns (total 7 columns):\n",
      " #   Column     Non-Null Count  Dtype         \n",
      "---  ------     --------------  -----         \n",
      " 0   Date       1009 non-null   datetime64[ns]\n",
      " 1   Open       1009 non-null   float64       \n",
      " 2   High       1009 non-null   float64       \n",
      " 3   Low        1009 non-null   float64       \n",
      " 4   Close      1009 non-null   float64       \n",
      " 5   Adj Close  1009 non-null   float64       \n",
      " 6   Volume     1009 non-null   int64         \n",
      "dtypes: datetime64[ns](1), float64(5), int64(1)\n",
      "memory usage: 55.3 KB\n"
     ]
    }
   ],
   "source": [
    "data.info()"
   ]
  },
  {
   "cell_type": "code",
   "execution_count": 4,
   "id": "cf73a1d3-e4fa-4f08-9e8a-61a0756f3c11",
   "metadata": {},
   "outputs": [
    {
     "data": {
      "text/plain": [
       "(1009, 7)"
      ]
     },
     "execution_count": 4,
     "metadata": {},
     "output_type": "execute_result"
    }
   ],
   "source": [
    "data.shape"
   ]
  },
  {
   "cell_type": "code",
   "execution_count": 5,
   "id": "c2c00ce0-12a7-41fb-a916-34c9d9ca91cf",
   "metadata": {},
   "outputs": [
    {
     "data": {
      "text/plain": [
       "Date         1009\n",
       "Open         1009\n",
       "High         1009\n",
       "Low          1009\n",
       "Close        1009\n",
       "Adj Close    1009\n",
       "Volume       1009\n",
       "dtype: int64"
      ]
     },
     "execution_count": 5,
     "metadata": {},
     "output_type": "execute_result"
    }
   ],
   "source": [
    "data.count()"
   ]
  },
  {
   "cell_type": "code",
   "execution_count": 6,
   "id": "5f813927-4b81-4063-bd03-8090084db2b5",
   "metadata": {},
   "outputs": [
    {
     "data": {
      "text/plain": [
       "Date         datetime64[ns]\n",
       "Open                float64\n",
       "High                float64\n",
       "Low                 float64\n",
       "Close               float64\n",
       "Adj Close           float64\n",
       "Volume                int64\n",
       "dtype: object"
      ]
     },
     "execution_count": 6,
     "metadata": {},
     "output_type": "execute_result"
    }
   ],
   "source": [
    "data.dtypes"
   ]
  },
  {
   "cell_type": "code",
   "execution_count": 7,
   "id": "7e6127a5-dafd-495c-8a8d-166aa8206755",
   "metadata": {},
   "outputs": [
    {
     "data": {
      "text/html": [
       "<div>\n",
       "<style scoped>\n",
       "    .dataframe tbody tr th:only-of-type {\n",
       "        vertical-align: middle;\n",
       "    }\n",
       "\n",
       "    .dataframe tbody tr th {\n",
       "        vertical-align: top;\n",
       "    }\n",
       "\n",
       "    .dataframe thead th {\n",
       "        text-align: right;\n",
       "    }\n",
       "</style>\n",
       "<table border=\"1\" class=\"dataframe\">\n",
       "  <thead>\n",
       "    <tr style=\"text-align: right;\">\n",
       "      <th></th>\n",
       "      <th>Date</th>\n",
       "      <th>Open</th>\n",
       "      <th>High</th>\n",
       "      <th>Low</th>\n",
       "      <th>Close</th>\n",
       "      <th>Adj Close</th>\n",
       "      <th>Volume</th>\n",
       "    </tr>\n",
       "  </thead>\n",
       "  <tbody>\n",
       "    <tr>\n",
       "      <th>count</th>\n",
       "      <td>1009</td>\n",
       "      <td>1009.000000</td>\n",
       "      <td>1009.000000</td>\n",
       "      <td>1009.000000</td>\n",
       "      <td>1009.000000</td>\n",
       "      <td>1009.000000</td>\n",
       "      <td>1.009000e+03</td>\n",
       "    </tr>\n",
       "    <tr>\n",
       "      <th>mean</th>\n",
       "      <td>2020-02-05 07:30:58.870168320</td>\n",
       "      <td>419.059673</td>\n",
       "      <td>425.320703</td>\n",
       "      <td>412.374044</td>\n",
       "      <td>419.000733</td>\n",
       "      <td>419.000733</td>\n",
       "      <td>7.570685e+06</td>\n",
       "    </tr>\n",
       "    <tr>\n",
       "      <th>min</th>\n",
       "      <td>2018-02-05 00:00:00</td>\n",
       "      <td>233.919998</td>\n",
       "      <td>250.649994</td>\n",
       "      <td>231.229996</td>\n",
       "      <td>233.880005</td>\n",
       "      <td>233.880005</td>\n",
       "      <td>1.144000e+06</td>\n",
       "    </tr>\n",
       "    <tr>\n",
       "      <th>25%</th>\n",
       "      <td>2019-02-06 00:00:00</td>\n",
       "      <td>331.489990</td>\n",
       "      <td>336.299988</td>\n",
       "      <td>326.000000</td>\n",
       "      <td>331.619995</td>\n",
       "      <td>331.619995</td>\n",
       "      <td>4.091900e+06</td>\n",
       "    </tr>\n",
       "    <tr>\n",
       "      <th>50%</th>\n",
       "      <td>2020-02-06 00:00:00</td>\n",
       "      <td>377.769989</td>\n",
       "      <td>383.010010</td>\n",
       "      <td>370.880005</td>\n",
       "      <td>378.670013</td>\n",
       "      <td>378.670013</td>\n",
       "      <td>5.934500e+06</td>\n",
       "    </tr>\n",
       "    <tr>\n",
       "      <th>75%</th>\n",
       "      <td>2021-02-05 00:00:00</td>\n",
       "      <td>509.130005</td>\n",
       "      <td>515.630005</td>\n",
       "      <td>502.529999</td>\n",
       "      <td>509.079987</td>\n",
       "      <td>509.079987</td>\n",
       "      <td>9.322400e+06</td>\n",
       "    </tr>\n",
       "    <tr>\n",
       "      <th>max</th>\n",
       "      <td>2022-02-04 00:00:00</td>\n",
       "      <td>692.349976</td>\n",
       "      <td>700.989990</td>\n",
       "      <td>686.090027</td>\n",
       "      <td>691.690002</td>\n",
       "      <td>691.690002</td>\n",
       "      <td>5.890430e+07</td>\n",
       "    </tr>\n",
       "    <tr>\n",
       "      <th>std</th>\n",
       "      <td>NaN</td>\n",
       "      <td>108.537532</td>\n",
       "      <td>109.262960</td>\n",
       "      <td>107.555867</td>\n",
       "      <td>108.289999</td>\n",
       "      <td>108.289999</td>\n",
       "      <td>5.465535e+06</td>\n",
       "    </tr>\n",
       "  </tbody>\n",
       "</table>\n",
       "</div>"
      ],
      "text/plain": [
       "                                Date         Open         High          Low  \\\n",
       "count                           1009  1009.000000  1009.000000  1009.000000   \n",
       "mean   2020-02-05 07:30:58.870168320   419.059673   425.320703   412.374044   \n",
       "min              2018-02-05 00:00:00   233.919998   250.649994   231.229996   \n",
       "25%              2019-02-06 00:00:00   331.489990   336.299988   326.000000   \n",
       "50%              2020-02-06 00:00:00   377.769989   383.010010   370.880005   \n",
       "75%              2021-02-05 00:00:00   509.130005   515.630005   502.529999   \n",
       "max              2022-02-04 00:00:00   692.349976   700.989990   686.090027   \n",
       "std                              NaN   108.537532   109.262960   107.555867   \n",
       "\n",
       "             Close    Adj Close        Volume  \n",
       "count  1009.000000  1009.000000  1.009000e+03  \n",
       "mean    419.000733   419.000733  7.570685e+06  \n",
       "min     233.880005   233.880005  1.144000e+06  \n",
       "25%     331.619995   331.619995  4.091900e+06  \n",
       "50%     378.670013   378.670013  5.934500e+06  \n",
       "75%     509.079987   509.079987  9.322400e+06  \n",
       "max     691.690002   691.690002  5.890430e+07  \n",
       "std     108.289999   108.289999  5.465535e+06  "
      ]
     },
     "execution_count": 7,
     "metadata": {},
     "output_type": "execute_result"
    }
   ],
   "source": [
    "data.describe()"
   ]
  },
  {
   "cell_type": "code",
   "execution_count": 8,
   "id": "7a3bb7d1-2389-4037-b0a9-9bd212075932",
   "metadata": {},
   "outputs": [
    {
     "data": {
      "text/html": [
       "<div>\n",
       "<style scoped>\n",
       "    .dataframe tbody tr th:only-of-type {\n",
       "        vertical-align: middle;\n",
       "    }\n",
       "\n",
       "    .dataframe tbody tr th {\n",
       "        vertical-align: top;\n",
       "    }\n",
       "\n",
       "    .dataframe thead th {\n",
       "        text-align: right;\n",
       "    }\n",
       "</style>\n",
       "<table border=\"1\" class=\"dataframe\">\n",
       "  <thead>\n",
       "    <tr style=\"text-align: right;\">\n",
       "      <th></th>\n",
       "      <th>Date</th>\n",
       "      <th>Open</th>\n",
       "      <th>High</th>\n",
       "      <th>Low</th>\n",
       "      <th>Close</th>\n",
       "      <th>Adj Close</th>\n",
       "      <th>Volume</th>\n",
       "    </tr>\n",
       "  </thead>\n",
       "  <tbody>\n",
       "    <tr>\n",
       "      <th>0</th>\n",
       "      <td>False</td>\n",
       "      <td>False</td>\n",
       "      <td>False</td>\n",
       "      <td>False</td>\n",
       "      <td>False</td>\n",
       "      <td>False</td>\n",
       "      <td>False</td>\n",
       "    </tr>\n",
       "    <tr>\n",
       "      <th>1</th>\n",
       "      <td>False</td>\n",
       "      <td>False</td>\n",
       "      <td>False</td>\n",
       "      <td>False</td>\n",
       "      <td>False</td>\n",
       "      <td>False</td>\n",
       "      <td>False</td>\n",
       "    </tr>\n",
       "    <tr>\n",
       "      <th>2</th>\n",
       "      <td>False</td>\n",
       "      <td>False</td>\n",
       "      <td>False</td>\n",
       "      <td>False</td>\n",
       "      <td>False</td>\n",
       "      <td>False</td>\n",
       "      <td>False</td>\n",
       "    </tr>\n",
       "    <tr>\n",
       "      <th>3</th>\n",
       "      <td>False</td>\n",
       "      <td>False</td>\n",
       "      <td>False</td>\n",
       "      <td>False</td>\n",
       "      <td>False</td>\n",
       "      <td>False</td>\n",
       "      <td>False</td>\n",
       "    </tr>\n",
       "    <tr>\n",
       "      <th>4</th>\n",
       "      <td>False</td>\n",
       "      <td>False</td>\n",
       "      <td>False</td>\n",
       "      <td>False</td>\n",
       "      <td>False</td>\n",
       "      <td>False</td>\n",
       "      <td>False</td>\n",
       "    </tr>\n",
       "    <tr>\n",
       "      <th>...</th>\n",
       "      <td>...</td>\n",
       "      <td>...</td>\n",
       "      <td>...</td>\n",
       "      <td>...</td>\n",
       "      <td>...</td>\n",
       "      <td>...</td>\n",
       "      <td>...</td>\n",
       "    </tr>\n",
       "    <tr>\n",
       "      <th>1004</th>\n",
       "      <td>False</td>\n",
       "      <td>False</td>\n",
       "      <td>False</td>\n",
       "      <td>False</td>\n",
       "      <td>False</td>\n",
       "      <td>False</td>\n",
       "      <td>False</td>\n",
       "    </tr>\n",
       "    <tr>\n",
       "      <th>1005</th>\n",
       "      <td>False</td>\n",
       "      <td>False</td>\n",
       "      <td>False</td>\n",
       "      <td>False</td>\n",
       "      <td>False</td>\n",
       "      <td>False</td>\n",
       "      <td>False</td>\n",
       "    </tr>\n",
       "    <tr>\n",
       "      <th>1006</th>\n",
       "      <td>False</td>\n",
       "      <td>False</td>\n",
       "      <td>False</td>\n",
       "      <td>False</td>\n",
       "      <td>False</td>\n",
       "      <td>False</td>\n",
       "      <td>False</td>\n",
       "    </tr>\n",
       "    <tr>\n",
       "      <th>1007</th>\n",
       "      <td>False</td>\n",
       "      <td>False</td>\n",
       "      <td>False</td>\n",
       "      <td>False</td>\n",
       "      <td>False</td>\n",
       "      <td>False</td>\n",
       "      <td>False</td>\n",
       "    </tr>\n",
       "    <tr>\n",
       "      <th>1008</th>\n",
       "      <td>False</td>\n",
       "      <td>False</td>\n",
       "      <td>False</td>\n",
       "      <td>False</td>\n",
       "      <td>False</td>\n",
       "      <td>False</td>\n",
       "      <td>False</td>\n",
       "    </tr>\n",
       "  </tbody>\n",
       "</table>\n",
       "<p>1009 rows × 7 columns</p>\n",
       "</div>"
      ],
      "text/plain": [
       "       Date   Open   High    Low  Close  Adj Close  Volume\n",
       "0     False  False  False  False  False      False   False\n",
       "1     False  False  False  False  False      False   False\n",
       "2     False  False  False  False  False      False   False\n",
       "3     False  False  False  False  False      False   False\n",
       "4     False  False  False  False  False      False   False\n",
       "...     ...    ...    ...    ...    ...        ...     ...\n",
       "1004  False  False  False  False  False      False   False\n",
       "1005  False  False  False  False  False      False   False\n",
       "1006  False  False  False  False  False      False   False\n",
       "1007  False  False  False  False  False      False   False\n",
       "1008  False  False  False  False  False      False   False\n",
       "\n",
       "[1009 rows x 7 columns]"
      ]
     },
     "execution_count": 8,
     "metadata": {},
     "output_type": "execute_result"
    }
   ],
   "source": [
    "data.isna()  #or data.isnull()"
   ]
  },
  {
   "cell_type": "markdown",
   "id": "e9d62e43-9a9e-40c8-9235-1dd6ec3d6c7f",
   "metadata": {},
   "source": [
    "this gives us the whole dataframe marking the null values. hard to read therefore we use the sum method to make it easy for us to makse sense of this"
   ]
  },
  {
   "cell_type": "code",
   "execution_count": 9,
   "id": "388b8785-747d-4f12-8743-96a3203c8635",
   "metadata": {},
   "outputs": [
    {
     "data": {
      "text/plain": [
       "Date         0\n",
       "Open         0\n",
       "High         0\n",
       "Low          0\n",
       "Close        0\n",
       "Adj Close    0\n",
       "Volume       0\n",
       "dtype: int64"
      ]
     },
     "execution_count": 9,
     "metadata": {},
     "output_type": "execute_result"
    }
   ],
   "source": [
    "data.isna().sum()"
   ]
  },
  {
   "cell_type": "code",
   "execution_count": 10,
   "id": "4fdfbe47-4064-4b86-bb67-4dad091aba8c",
   "metadata": {},
   "outputs": [
    {
     "data": {
      "text/html": [
       "<div>\n",
       "<style scoped>\n",
       "    .dataframe tbody tr th:only-of-type {\n",
       "        vertical-align: middle;\n",
       "    }\n",
       "\n",
       "    .dataframe tbody tr th {\n",
       "        vertical-align: top;\n",
       "    }\n",
       "\n",
       "    .dataframe thead th {\n",
       "        text-align: right;\n",
       "    }\n",
       "</style>\n",
       "<table border=\"1\" class=\"dataframe\">\n",
       "  <thead>\n",
       "    <tr style=\"text-align: right;\">\n",
       "      <th></th>\n",
       "      <th>Date</th>\n",
       "      <th>Open</th>\n",
       "      <th>High</th>\n",
       "      <th>Low</th>\n",
       "      <th>Close</th>\n",
       "      <th>Adj Close</th>\n",
       "      <th>Volume</th>\n",
       "    </tr>\n",
       "  </thead>\n",
       "  <tbody>\n",
       "    <tr>\n",
       "      <th>0</th>\n",
       "      <td>2018-02-05</td>\n",
       "      <td>262.000000</td>\n",
       "      <td>267.899994</td>\n",
       "      <td>250.029999</td>\n",
       "      <td>254.259995</td>\n",
       "      <td>254.259995</td>\n",
       "      <td>11896100</td>\n",
       "    </tr>\n",
       "    <tr>\n",
       "      <th>1</th>\n",
       "      <td>2018-02-06</td>\n",
       "      <td>247.699997</td>\n",
       "      <td>266.700012</td>\n",
       "      <td>245.000000</td>\n",
       "      <td>265.720001</td>\n",
       "      <td>265.720001</td>\n",
       "      <td>12595800</td>\n",
       "    </tr>\n",
       "    <tr>\n",
       "      <th>2</th>\n",
       "      <td>2018-02-07</td>\n",
       "      <td>266.579987</td>\n",
       "      <td>272.450012</td>\n",
       "      <td>264.329987</td>\n",
       "      <td>264.559998</td>\n",
       "      <td>264.559998</td>\n",
       "      <td>8981500</td>\n",
       "    </tr>\n",
       "    <tr>\n",
       "      <th>3</th>\n",
       "      <td>2018-02-08</td>\n",
       "      <td>267.079987</td>\n",
       "      <td>267.619995</td>\n",
       "      <td>250.000000</td>\n",
       "      <td>250.100006</td>\n",
       "      <td>250.100006</td>\n",
       "      <td>9306700</td>\n",
       "    </tr>\n",
       "    <tr>\n",
       "      <th>4</th>\n",
       "      <td>2018-02-09</td>\n",
       "      <td>253.850006</td>\n",
       "      <td>255.800003</td>\n",
       "      <td>236.110001</td>\n",
       "      <td>249.470001</td>\n",
       "      <td>249.470001</td>\n",
       "      <td>16906900</td>\n",
       "    </tr>\n",
       "    <tr>\n",
       "      <th>...</th>\n",
       "      <td>...</td>\n",
       "      <td>...</td>\n",
       "      <td>...</td>\n",
       "      <td>...</td>\n",
       "      <td>...</td>\n",
       "      <td>...</td>\n",
       "      <td>...</td>\n",
       "    </tr>\n",
       "    <tr>\n",
       "      <th>1004</th>\n",
       "      <td>2022-01-31</td>\n",
       "      <td>401.970001</td>\n",
       "      <td>427.700012</td>\n",
       "      <td>398.200012</td>\n",
       "      <td>427.140015</td>\n",
       "      <td>427.140015</td>\n",
       "      <td>20047500</td>\n",
       "    </tr>\n",
       "    <tr>\n",
       "      <th>1005</th>\n",
       "      <td>2022-02-01</td>\n",
       "      <td>432.959991</td>\n",
       "      <td>458.480011</td>\n",
       "      <td>425.540009</td>\n",
       "      <td>457.130005</td>\n",
       "      <td>457.130005</td>\n",
       "      <td>22542300</td>\n",
       "    </tr>\n",
       "    <tr>\n",
       "      <th>1006</th>\n",
       "      <td>2022-02-02</td>\n",
       "      <td>448.250000</td>\n",
       "      <td>451.980011</td>\n",
       "      <td>426.480011</td>\n",
       "      <td>429.480011</td>\n",
       "      <td>429.480011</td>\n",
       "      <td>14346000</td>\n",
       "    </tr>\n",
       "    <tr>\n",
       "      <th>1007</th>\n",
       "      <td>2022-02-03</td>\n",
       "      <td>421.440002</td>\n",
       "      <td>429.260010</td>\n",
       "      <td>404.279999</td>\n",
       "      <td>405.600006</td>\n",
       "      <td>405.600006</td>\n",
       "      <td>9905200</td>\n",
       "    </tr>\n",
       "    <tr>\n",
       "      <th>1008</th>\n",
       "      <td>2022-02-04</td>\n",
       "      <td>407.309998</td>\n",
       "      <td>412.769989</td>\n",
       "      <td>396.640015</td>\n",
       "      <td>410.170013</td>\n",
       "      <td>410.170013</td>\n",
       "      <td>7782400</td>\n",
       "    </tr>\n",
       "  </tbody>\n",
       "</table>\n",
       "<p>1009 rows × 7 columns</p>\n",
       "</div>"
      ],
      "text/plain": [
       "           Date        Open        High         Low       Close   Adj Close  \\\n",
       "0    2018-02-05  262.000000  267.899994  250.029999  254.259995  254.259995   \n",
       "1    2018-02-06  247.699997  266.700012  245.000000  265.720001  265.720001   \n",
       "2    2018-02-07  266.579987  272.450012  264.329987  264.559998  264.559998   \n",
       "3    2018-02-08  267.079987  267.619995  250.000000  250.100006  250.100006   \n",
       "4    2018-02-09  253.850006  255.800003  236.110001  249.470001  249.470001   \n",
       "...         ...         ...         ...         ...         ...         ...   \n",
       "1004 2022-01-31  401.970001  427.700012  398.200012  427.140015  427.140015   \n",
       "1005 2022-02-01  432.959991  458.480011  425.540009  457.130005  457.130005   \n",
       "1006 2022-02-02  448.250000  451.980011  426.480011  429.480011  429.480011   \n",
       "1007 2022-02-03  421.440002  429.260010  404.279999  405.600006  405.600006   \n",
       "1008 2022-02-04  407.309998  412.769989  396.640015  410.170013  410.170013   \n",
       "\n",
       "        Volume  \n",
       "0     11896100  \n",
       "1     12595800  \n",
       "2      8981500  \n",
       "3      9306700  \n",
       "4     16906900  \n",
       "...        ...  \n",
       "1004  20047500  \n",
       "1005  22542300  \n",
       "1006  14346000  \n",
       "1007   9905200  \n",
       "1008   7782400  \n",
       "\n",
       "[1009 rows x 7 columns]"
      ]
     },
     "execution_count": 10,
     "metadata": {},
     "output_type": "execute_result"
    }
   ],
   "source": [
    "data"
   ]
  },
  {
   "cell_type": "code",
   "execution_count": 11,
   "id": "f2421165-e660-483b-8637-9f8844e72ee3",
   "metadata": {},
   "outputs": [
    {
     "data": {
      "image/png": "[encoded data removed]",
      "text/plain": [
       "<Figure size 640x480 with 1 Axes>"
      ]
     },
     "metadata": {},
     "output_type": "display_data"
    }
   ],
   "source": [
    "year = data['Date']\n",
    "todaystocks = data['Volume']\n",
    "\n",
    "plt.plot(year, todaystocks)\n",
    "plt.show()"
   ]
  },
  {
   "cell_type": "code",
   "execution_count": 12,
   "id": "e4d72d76-71b2-43ac-b776-4e7c8a97a399",
   "metadata": {},
   "outputs": [
    {
     "data": {
      "text/plain": [
       "0       254.259995\n",
       "1       265.720001\n",
       "2       264.559998\n",
       "3       250.100006\n",
       "4       249.470001\n",
       "           ...    \n",
       "1004    427.140015\n",
       "1005    457.130005\n",
       "1006    429.480011\n",
       "1007    405.600006\n",
       "1008    410.170013\n",
       "Name: Close, Length: 1009, dtype: float64"
      ]
     },
     "execution_count": 12,
     "metadata": {},
     "output_type": "execute_result"
    }
   ],
   "source": [
    "df1 = data.reset_index()['Close']\n",
    "df1"
   ]
  },
  {
   "cell_type": "code",
   "execution_count": 13,
   "id": "f8705caa-dff1-4d02-9a69-e42c13587d8e",
   "metadata": {},
   "outputs": [
    {
     "data": {
      "text/plain": [
       "(1009,)"
      ]
     },
     "execution_count": 13,
     "metadata": {},
     "output_type": "execute_result"
    }
   ],
   "source": [
    "df1.shape"
   ]
  },
  {
   "cell_type": "code",
   "execution_count": 14,
   "id": "51acb0c2-6ecf-4fe0-b974-c8191ec938a1",
   "metadata": {},
   "outputs": [
    {
     "data": {
      "image/png": "[encoded data removed]",
      "text/plain": [
       "<Figure size 640x480 with 1 Axes>"
      ]
     },
     "metadata": {},
     "output_type": "display_data"
    }
   ],
   "source": [
    "plt.plot(df1)\n",
    "plt.show()"
   ]
  },
  {
   "cell_type": "markdown",
   "id": "ba6b8dd7-d903-42f6-b534-28ab7ff1768b",
   "metadata": {},
   "source": [
    "## LSTM are sensitive to scale of data so we will use min max scaler"
   ]
  },
  {
   "cell_type": "code",
   "execution_count": 15,
   "id": "81ad2cf9-5970-47e5-910c-9f17d00e7dd9",
   "metadata": {},
   "outputs": [],
   "source": [
    "from sklearn.preprocessing import MinMaxScaler\n",
    "scaler =MinMaxScaler(feature_range = (0,1))\n",
    "df1 = scaler.fit_transform(np.array(df1).reshape(-1,1))"
   ]
  },
  {
   "cell_type": "code",
   "execution_count": 16,
   "id": "866c32a1-c22a-4dca-83b3-087d095a0d06",
   "metadata": {},
   "outputs": [
    {
     "data": {
      "text/plain": [
       "(1009, 1)"
      ]
     },
     "execution_count": 16,
     "metadata": {},
     "output_type": "execute_result"
    }
   ],
   "source": [
    "df1.shape"
   ]
  },
  {
   "cell_type": "code",
   "execution_count": 17,
   "id": "dcdeb231-c1e6-45c5-8b45-85bbcaa4b182",
   "metadata": {},
   "outputs": [
    {
     "data": {
      "text/plain": [
       "array([[0.04451626],\n",
       "       [0.06954849],\n",
       "       [0.06701469],\n",
       "       ...,\n",
       "       [0.4272515 ],\n",
       "       [0.37509011],\n",
       "       [0.38507243]])"
      ]
     },
     "execution_count": 17,
     "metadata": {},
     "output_type": "execute_result"
    }
   ],
   "source": [
    "df1  #values are now between zero to one"
   ]
  },
  {
   "cell_type": "code",
   "execution_count": 18,
   "id": "422d17a1-ca84-41cd-88ea-db4ec3016bf6",
   "metadata": {},
   "outputs": [
    {
     "data": {
      "text/plain": [
       "(655, 354)"
      ]
     },
     "execution_count": 18,
     "metadata": {},
     "output_type": "execute_result"
    }
   ],
   "source": [
    "#splitting dataset into testing and training \n",
    "\n",
    "training_size = int(len(df1)*0.65)\n",
    "test_size = len(df1) - training_size\n",
    "\n",
    "train_data, test_data = df1[0: training_size,:], df1[training_size : len(df1), :1]\n",
    "\n",
    "training_size, test_size"
   ]
  },
  {
   "cell_type": "code",
   "execution_count": 19,
   "id": "e6dca62e-c240-45fc-b191-7c7f8d5a42ed",
   "metadata": {},
   "outputs": [],
   "source": [
    "# convert an array of values into a dataset matrix\n",
    "\n",
    "def create_dataset(dataset, time_step = 1):\n",
    "    dataX, dataY = [],[]\n",
    "    for i in range(len(dataset) - time_step - 1):\n",
    "        a = dataset[i:(i+time_step), 0]\n",
    "        dataX.append(a)\n",
    "        dataY.append(dataset[i+time_step, 0])\n",
    "    return np.array(dataX), np.array(dataY)"
   ]
  },
  {
   "cell_type": "code",
   "execution_count": 20,
   "id": "d0e00463-5954-4e87-800a-d748420fc8ae",
   "metadata": {},
   "outputs": [
    {
     "name": "stdout",
     "output_type": "stream",
     "text": [
      "[[0.04451626 0.06954849 0.06701469 ... 0.32895744 0.36152555 0.34186674]\n",
      " [0.06954849 0.06701469 0.03542955 ... 0.36152555 0.34186674 0.35285382]\n",
      " [0.06701469 0.03542955 0.03405342 ... 0.34186674 0.35285382 0.34413837]\n",
      " ...\n",
      " [0.4212883  0.44841749 0.41300974 ... 0.70481201 0.69670829 0.63753522]\n",
      " [0.44841749 0.41300974 0.44474779 ... 0.69670829 0.63753522 0.61634736]\n",
      " [0.41300974 0.44474779 0.4367532  ... 0.63753522 0.61634736 0.59662302]]\n"
     ]
    }
   ],
   "source": [
    "#reshape into X= t, t+1, t+2, t+3 and Y = t+4\n",
    "\n",
    "time_step = 100\n",
    "x_train, y_train = create_dataset(train_data,time_step)\n",
    "x_test, y_test = create_dataset(test_data, time_step)\n",
    "\n",
    "print(x_train)"
   ]
  },
  {
   "cell_type": "code",
   "execution_count": 21,
   "id": "ce64374c-2618-4bc5-9a13-c9c7099397db",
   "metadata": {},
   "outputs": [
    {
     "name": "stdout",
     "output_type": "stream",
     "text": [
      "(554, 100) (554,)\n"
     ]
    }
   ],
   "source": [
    "print(x_train.shape, y_train.shape)"
   ]
  },
  {
   "cell_type": "code",
   "execution_count": 22,
   "id": "beb845f6-a821-490a-b96d-6f47f19a35dd",
   "metadata": {},
   "outputs": [
    {
     "name": "stdout",
     "output_type": "stream",
     "text": [
      "(253, 100) (253,)\n"
     ]
    }
   ],
   "source": [
    "print(x_test.shape, y_test.shape)"
   ]
  },
  {
   "cell_type": "code",
   "execution_count": 23,
   "id": "e53c29c7-f6bd-45b2-a555-d4291ad73132",
   "metadata": {},
   "outputs": [],
   "source": [
    "#reshaping the input to be [samples, time_steps, features] which is required for LSTM\n",
    "\n",
    "x_train = x_train.reshape(x_train.shape[0], x_train.shape[1], 1)\n",
    "x_test = x_test.reshape(x_test.shape[0], x_test.shape[1],1)"
   ]
  },
  {
   "cell_type": "code",
   "execution_count": 24,
   "id": "2fa33451-b3a1-4ae2-b460-52fbe6fda04a",
   "metadata": {},
   "outputs": [],
   "source": [
    "from tensorflow.keras.models import Sequential\n",
    "from tensorflow.keras.layers import Dense\n",
    "from tensorflow.keras.layers import LSTM"
   ]
  },
  {
   "cell_type": "code",
   "execution_count": 25,
   "id": "95e544d5-859f-471e-9974-e42e4bf3b11f",
   "metadata": {},
   "outputs": [
    {
     "name": "stderr",
     "output_type": "stream",
     "text": [
      "D:\\Coding\\Anaconda\\Lib\\site-packages\\keras\\src\\layers\\rnn\\rnn.py:204: UserWarning: Do not pass an `input_shape`/`input_dim` argument to a layer. When using Sequential models, prefer using an `Input(shape)` object as the first layer in the model instead.\n",
      "  super().__init__(**kwargs)\n"
     ]
    }
   ],
   "source": [
    "model = Sequential()\n",
    "model.add(LSTM(50, return_sequences = True, input_shape = (100,1)))\n",
    "model.add(LSTM(50, return_sequences = True))\n",
    "model.add(LSTM(50))\n",
    "model.add(Dense(1))\n",
    "model.compile(loss='mean_squared_error', optimizer = 'adam')"
   ]
  },
  {
   "cell_type": "code",
   "execution_count": 26,
   "id": "44fc3682-ee5f-4644-baf1-b1bba3595277",
   "metadata": {},
   "outputs": [
    {
     "data": {
      "text/html": [
       "<pre style=\"white-space:pre;overflow-x:auto;line-height:normal;font-family:Menlo,'DejaVu Sans Mono',consolas,'Courier New',monospace\"><span style=\"font-weight: bold\">Model: \"sequential\"</span>\n",
       "</pre>\n"
      ],
      "text/plain": [
       "\u001b[1mModel: \"sequential\"\u001b[0m\n"
      ]
     },
     "metadata": {},
     "output_type": "display_data"
    },
    {
     "data": {
      "text/html": [
       "<pre style=\"white-space:pre;overflow-x:auto;line-height:normal;font-family:Menlo,'DejaVu Sans Mono',consolas,'Courier New',monospace\">┏━━━━━━━━━━━━━━━━━━━━━━━━━━━━━━━━━━━━━━┳━━━━━━━━━━━━━━━━━━━━━━━━━━━━━┳━━━━━━━━━━━━━━━━━┓\n",
       "┃<span style=\"font-weight: bold\"> Layer (type)                         </span>┃<span style=\"font-weight: bold\"> Output Shape                </span>┃<span style=\"font-weight: bold\">         Param # </span>┃\n",
       "┡━━━━━━━━━━━━━━━━━━━━━━━━━━━━━━━━━━━━━━╇━━━━━━━━━━━━━━━━━━━━━━━━━━━━━╇━━━━━━━━━━━━━━━━━┩\n",
       "│ lstm (<span style=\"color: #0087ff; text-decoration-color: #0087ff\">LSTM</span>)                          │ (<span style=\"color: #00d7ff; text-decoration-color: #00d7ff\">None</span>, <span style=\"color: #00af00; text-decoration-color: #00af00\">100</span>, <span style=\"color: #00af00; text-decoration-color: #00af00\">50</span>)             │          <span style=\"color: #00af00; text-decoration-color: #00af00\">10,400</span> │\n",
       "├──────────────────────────────────────┼─────────────────────────────┼─────────────────┤\n",
       "│ lstm_1 (<span style=\"color: #0087ff; text-decoration-color: #0087ff\">LSTM</span>)                        │ (<span style=\"color: #00d7ff; text-decoration-color: #00d7ff\">None</span>, <span style=\"color: #00af00; text-decoration-color: #00af00\">100</span>, <span style=\"color: #00af00; text-decoration-color: #00af00\">50</span>)             │          <span style=\"color: #00af00; text-decoration-color: #00af00\">20,200</span> │\n",
       "├──────────────────────────────────────┼─────────────────────────────┼─────────────────┤\n",
       "│ lstm_2 (<span style=\"color: #0087ff; text-decoration-color: #0087ff\">LSTM</span>)                        │ (<span style=\"color: #00d7ff; text-decoration-color: #00d7ff\">None</span>, <span style=\"color: #00af00; text-decoration-color: #00af00\">50</span>)                  │          <span style=\"color: #00af00; text-decoration-color: #00af00\">20,200</span> │\n",
       "├──────────────────────────────────────┼─────────────────────────────┼─────────────────┤\n",
       "│ dense (<span style=\"color: #0087ff; text-decoration-color: #0087ff\">Dense</span>)                        │ (<span style=\"color: #00d7ff; text-decoration-color: #00d7ff\">None</span>, <span style=\"color: #00af00; text-decoration-color: #00af00\">1</span>)                   │              <span style=\"color: #00af00; text-decoration-color: #00af00\">51</span> │\n",
       "└──────────────────────────────────────┴─────────────────────────────┴─────────────────┘\n",
       "</pre>\n"
      ],
      "text/plain": [
       "┏━━━━━━━━━━━━━━━━━━━━━━━━━━━━━━━━━━━━━━┳━━━━━━━━━━━━━━━━━━━━━━━━━━━━━┳━━━━━━━━━━━━━━━━━┓\n",
       "┃\u001b[1m \u001b[0m\u001b[1mLayer (type)                        \u001b[0m\u001b[1m \u001b[0m┃\u001b[1m \u001b[0m\u001b[1mOutput Shape               \u001b[0m\u001b[1m \u001b[0m┃\u001b[1m \u001b[0m\u001b[1m        Param #\u001b[0m\u001b[1m \u001b[0m┃\n",
       "┡━━━━━━━━━━━━━━━━━━━━━━━━━━━━━━━━━━━━━━╇━━━━━━━━━━━━━━━━━━━━━━━━━━━━━╇━━━━━━━━━━━━━━━━━┩\n",
       "│ lstm (\u001b[38;5;33mLSTM\u001b[0m)                          │ (\u001b[38;5;45mNone\u001b[0m, \u001b[38;5;34m100\u001b[0m, \u001b[38;5;34m50\u001b[0m)             │          \u001b[38;5;34m10,400\u001b[0m │\n",
       "├──────────────────────────────────────┼─────────────────────────────┼─────────────────┤\n",
       "│ lstm_1 (\u001b[38;5;33mLSTM\u001b[0m)                        │ (\u001b[38;5;45mNone\u001b[0m, \u001b[38;5;34m100\u001b[0m, \u001b[38;5;34m50\u001b[0m)             │          \u001b[38;5;34m20,200\u001b[0m │\n",
       "├──────────────────────────────────────┼─────────────────────────────┼─────────────────┤\n",
       "│ lstm_2 (\u001b[38;5;33mLSTM\u001b[0m)                        │ (\u001b[38;5;45mNone\u001b[0m, \u001b[38;5;34m50\u001b[0m)                  │          \u001b[38;5;34m20,200\u001b[0m │\n",
       "├──────────────────────────────────────┼─────────────────────────────┼─────────────────┤\n",
       "│ dense (\u001b[38;5;33mDense\u001b[0m)                        │ (\u001b[38;5;45mNone\u001b[0m, \u001b[38;5;34m1\u001b[0m)                   │              \u001b[38;5;34m51\u001b[0m │\n",
       "└──────────────────────────────────────┴─────────────────────────────┴─────────────────┘\n"
      ]
     },
     "metadata": {},
     "output_type": "display_data"
    },
    {
     "data": {
      "text/html": [
       "<pre style=\"white-space:pre;overflow-x:auto;line-height:normal;font-family:Menlo,'DejaVu Sans Mono',consolas,'Courier New',monospace\"><span style=\"font-weight: bold\"> Total params: </span><span style=\"color: #00af00; text-decoration-color: #00af00\">50,851</span> (198.64 KB)\n",
       "</pre>\n"
      ],
      "text/plain": [
       "\u001b[1m Total params: \u001b[0m\u001b[38;5;34m50,851\u001b[0m (198.64 KB)\n"
      ]
     },
     "metadata": {},
     "output_type": "display_data"
    },
    {
     "data": {
      "text/html": [
       "<pre style=\"white-space:pre;overflow-x:auto;line-height:normal;font-family:Menlo,'DejaVu Sans Mono',consolas,'Courier New',monospace\"><span style=\"font-weight: bold\"> Trainable params: </span><span style=\"color: #00af00; text-decoration-color: #00af00\">50,851</span> (198.64 KB)\n",
       "</pre>\n"
      ],
      "text/plain": [
       "\u001b[1m Trainable params: \u001b[0m\u001b[38;5;34m50,851\u001b[0m (198.64 KB)\n"
      ]
     },
     "metadata": {},
     "output_type": "display_data"
    },
    {
     "data": {
      "text/html": [
       "<pre style=\"white-space:pre;overflow-x:auto;line-height:normal;font-family:Menlo,'DejaVu Sans Mono',consolas,'Courier New',monospace\"><span style=\"font-weight: bold\"> Non-trainable params: </span><span style=\"color: #00af00; text-decoration-color: #00af00\">0</span> (0.00 B)\n",
       "</pre>\n"
      ],
      "text/plain": [
       "\u001b[1m Non-trainable params: \u001b[0m\u001b[38;5;34m0\u001b[0m (0.00 B)\n"
      ]
     },
     "metadata": {},
     "output_type": "display_data"
    }
   ],
   "source": [
    "model.summary()"
   ]
  },
  {
   "cell_type": "code",
   "execution_count": 27,
   "id": "7a313ba0-6fa9-4307-8929-d374bda40d0f",
   "metadata": {},
   "outputs": [
    {
     "name": "stdout",
     "output_type": "stream",
     "text": [
      "Epoch 1/100\n",
      "\u001b[1m9/9\u001b[0m \u001b[32m━━━━━━━━━━━━━━━━━━━━\u001b[0m\u001b[37m\u001b[0m \u001b[1m9s\u001b[0m 239ms/step - loss: 0.0635 - val_loss: 0.0119\n",
      "Epoch 2/100\n",
      "\u001b[1m9/9\u001b[0m \u001b[32m━━━━━━━━━━━━━━━━━━━━\u001b[0m\u001b[37m\u001b[0m \u001b[1m1s\u001b[0m 105ms/step - loss: 0.0098 - val_loss: 0.0649\n",
      "Epoch 3/100\n",
      "\u001b[1m9/9\u001b[0m \u001b[32m━━━━━━━━━━━━━━━━━━━━\u001b[0m\u001b[37m\u001b[0m \u001b[1m1s\u001b[0m 108ms/step - loss: 0.0071 - val_loss: 0.0162\n",
      "Epoch 4/100\n",
      "\u001b[1m9/9\u001b[0m \u001b[32m━━━━━━━━━━━━━━━━━━━━\u001b[0m\u001b[37m\u001b[0m \u001b[1m1s\u001b[0m 124ms/step - loss: 0.0040 - val_loss: 0.0080\n",
      "Epoch 5/100\n",
      "\u001b[1m9/9\u001b[0m \u001b[32m━━━━━━━━━━━━━━━━━━━━\u001b[0m\u001b[37m\u001b[0m \u001b[1m1s\u001b[0m 125ms/step - loss: 0.0033 - val_loss: 0.0095\n",
      "Epoch 6/100\n",
      "\u001b[1m9/9\u001b[0m \u001b[32m━━━━━━━━━━━━━━━━━━━━\u001b[0m\u001b[37m\u001b[0m \u001b[1m1s\u001b[0m 121ms/step - loss: 0.0034 - val_loss: 0.0154\n",
      "Epoch 7/100\n",
      "\u001b[1m9/9\u001b[0m \u001b[32m━━━━━━━━━━━━━━━━━━━━\u001b[0m\u001b[37m\u001b[0m \u001b[1m1s\u001b[0m 131ms/step - loss: 0.0028 - val_loss: 0.0103\n",
      "Epoch 8/100\n",
      "\u001b[1m9/9\u001b[0m \u001b[32m━━━━━━━━━━━━━━━━━━━━\u001b[0m\u001b[37m\u001b[0m \u001b[1m1s\u001b[0m 149ms/step - loss: 0.0029 - val_loss: 0.0113\n",
      "Epoch 9/100\n",
      "\u001b[1m9/9\u001b[0m \u001b[32m━━━━━━━━━━━━━━━━━━━━\u001b[0m\u001b[37m\u001b[0m \u001b[1m1s\u001b[0m 142ms/step - loss: 0.0025 - val_loss: 0.0103\n",
      "Epoch 10/100\n",
      "\u001b[1m9/9\u001b[0m \u001b[32m━━━━━━━━━━━━━━━━━━━━\u001b[0m\u001b[37m\u001b[0m \u001b[1m1s\u001b[0m 133ms/step - loss: 0.0024 - val_loss: 0.0108\n",
      "Epoch 11/100\n",
      "\u001b[1m9/9\u001b[0m \u001b[32m━━━━━━━━━━━━━━━━━━━━\u001b[0m\u001b[37m\u001b[0m \u001b[1m1s\u001b[0m 127ms/step - loss: 0.0026 - val_loss: 0.0105\n",
      "Epoch 12/100\n",
      "\u001b[1m9/9\u001b[0m \u001b[32m━━━━━━━━━━━━━━━━━━━━\u001b[0m\u001b[37m\u001b[0m \u001b[1m1s\u001b[0m 132ms/step - loss: 0.0024 - val_loss: 0.0080\n",
      "Epoch 13/100\n",
      "\u001b[1m9/9\u001b[0m \u001b[32m━━━━━━━━━━━━━━━━━━━━\u001b[0m\u001b[37m\u001b[0m \u001b[1m1s\u001b[0m 125ms/step - loss: 0.0024 - val_loss: 0.0084\n",
      "Epoch 14/100\n",
      "\u001b[1m9/9\u001b[0m \u001b[32m━━━━━━━━━━━━━━━━━━━━\u001b[0m\u001b[37m\u001b[0m \u001b[1m1s\u001b[0m 135ms/step - loss: 0.0023 - val_loss: 0.0060\n",
      "Epoch 15/100\n",
      "\u001b[1m9/9\u001b[0m \u001b[32m━━━━━━━━━━━━━━━━━━━━\u001b[0m\u001b[37m\u001b[0m \u001b[1m1s\u001b[0m 140ms/step - loss: 0.0022 - val_loss: 0.0120\n",
      "Epoch 16/100\n",
      "\u001b[1m9/9\u001b[0m \u001b[32m━━━━━━━━━━━━━━━━━━━━\u001b[0m\u001b[37m\u001b[0m \u001b[1m1s\u001b[0m 130ms/step - loss: 0.0024 - val_loss: 0.0057\n",
      "Epoch 17/100\n",
      "\u001b[1m9/9\u001b[0m \u001b[32m━━━━━━━━━━━━━━━━━━━━\u001b[0m\u001b[37m\u001b[0m \u001b[1m1s\u001b[0m 144ms/step - loss: 0.0023 - val_loss: 0.0046\n",
      "Epoch 18/100\n",
      "\u001b[1m9/9\u001b[0m \u001b[32m━━━━━━━━━━━━━━━━━━━━\u001b[0m\u001b[37m\u001b[0m \u001b[1m1s\u001b[0m 135ms/step - loss: 0.0022 - val_loss: 0.0048\n",
      "Epoch 19/100\n",
      "\u001b[1m9/9\u001b[0m \u001b[32m━━━━━━━━━━━━━━━━━━━━\u001b[0m\u001b[37m\u001b[0m \u001b[1m1s\u001b[0m 154ms/step - loss: 0.0020 - val_loss: 0.0090\n",
      "Epoch 20/100\n",
      "\u001b[1m9/9\u001b[0m \u001b[32m━━━━━━━━━━━━━━━━━━━━\u001b[0m\u001b[37m\u001b[0m \u001b[1m1s\u001b[0m 129ms/step - loss: 0.0019 - val_loss: 0.0084\n",
      "Epoch 21/100\n",
      "\u001b[1m9/9\u001b[0m \u001b[32m━━━━━━━━━━━━━━━━━━━━\u001b[0m\u001b[37m\u001b[0m \u001b[1m1s\u001b[0m 142ms/step - loss: 0.0020 - val_loss: 0.0049\n",
      "Epoch 22/100\n",
      "\u001b[1m9/9\u001b[0m \u001b[32m━━━━━━━━━━━━━━━━━━━━\u001b[0m\u001b[37m\u001b[0m \u001b[1m1s\u001b[0m 139ms/step - loss: 0.0020 - val_loss: 0.0047\n",
      "Epoch 23/100\n",
      "\u001b[1m9/9\u001b[0m \u001b[32m━━━━━━━━━━━━━━━━━━━━\u001b[0m\u001b[37m\u001b[0m \u001b[1m1s\u001b[0m 133ms/step - loss: 0.0021 - val_loss: 0.0038\n",
      "Epoch 24/100\n",
      "\u001b[1m9/9\u001b[0m \u001b[32m━━━━━━━━━━━━━━━━━━━━\u001b[0m\u001b[37m\u001b[0m \u001b[1m2s\u001b[0m 172ms/step - loss: 0.0021 - val_loss: 0.0036\n",
      "Epoch 25/100\n",
      "\u001b[1m9/9\u001b[0m \u001b[32m━━━━━━━━━━━━━━━━━━━━\u001b[0m\u001b[37m\u001b[0m \u001b[1m2s\u001b[0m 130ms/step - loss: 0.0019 - val_loss: 0.0060\n",
      "Epoch 26/100\n",
      "\u001b[1m9/9\u001b[0m \u001b[32m━━━━━━━━━━━━━━━━━━━━\u001b[0m\u001b[37m\u001b[0m \u001b[1m1s\u001b[0m 135ms/step - loss: 0.0020 - val_loss: 0.0112\n",
      "Epoch 27/100\n",
      "\u001b[1m9/9\u001b[0m \u001b[32m━━━━━━━━━━━━━━━━━━━━\u001b[0m\u001b[37m\u001b[0m \u001b[1m2s\u001b[0m 202ms/step - loss: 0.0018 - val_loss: 0.0078\n",
      "Epoch 28/100\n",
      "\u001b[1m9/9\u001b[0m \u001b[32m━━━━━━━━━━━━━━━━━━━━\u001b[0m\u001b[37m\u001b[0m \u001b[1m1s\u001b[0m 170ms/step - loss: 0.0018 - val_loss: 0.0033\n",
      "Epoch 29/100\n",
      "\u001b[1m9/9\u001b[0m \u001b[32m━━━━━━━━━━━━━━━━━━━━\u001b[0m\u001b[37m\u001b[0m \u001b[1m1s\u001b[0m 147ms/step - loss: 0.0017 - val_loss: 0.0040\n",
      "Epoch 30/100\n",
      "\u001b[1m9/9\u001b[0m \u001b[32m━━━━━━━━━━━━━━━━━━━━\u001b[0m\u001b[37m\u001b[0m \u001b[1m1s\u001b[0m 142ms/step - loss: 0.0019 - val_loss: 0.0040\n",
      "Epoch 31/100\n",
      "\u001b[1m9/9\u001b[0m \u001b[32m━━━━━━━━━━━━━━━━━━━━\u001b[0m\u001b[37m\u001b[0m \u001b[1m1s\u001b[0m 133ms/step - loss: 0.0017 - val_loss: 0.0048\n",
      "Epoch 32/100\n",
      "\u001b[1m9/9\u001b[0m \u001b[32m━━━━━━━━━━━━━━━━━━━━\u001b[0m\u001b[37m\u001b[0m \u001b[1m1s\u001b[0m 139ms/step - loss: 0.0017 - val_loss: 0.0100\n",
      "Epoch 33/100\n",
      "\u001b[1m9/9\u001b[0m \u001b[32m━━━━━━━━━━━━━━━━━━━━\u001b[0m\u001b[37m\u001b[0m \u001b[1m1s\u001b[0m 124ms/step - loss: 0.0019 - val_loss: 0.0057\n",
      "Epoch 34/100\n",
      "\u001b[1m9/9\u001b[0m \u001b[32m━━━━━━━━━━━━━━━━━━━━\u001b[0m\u001b[37m\u001b[0m \u001b[1m1s\u001b[0m 124ms/step - loss: 0.0018 - val_loss: 0.0036\n",
      "Epoch 35/100\n",
      "\u001b[1m9/9\u001b[0m \u001b[32m━━━━━━━━━━━━━━━━━━━━\u001b[0m\u001b[37m\u001b[0m \u001b[1m1s\u001b[0m 130ms/step - loss: 0.0017 - val_loss: 0.0035\n",
      "Epoch 36/100\n",
      "\u001b[1m9/9\u001b[0m \u001b[32m━━━━━━━━━━━━━━━━━━━━\u001b[0m\u001b[37m\u001b[0m \u001b[1m1s\u001b[0m 130ms/step - loss: 0.0019 - val_loss: 0.0030\n",
      "Epoch 37/100\n",
      "\u001b[1m9/9\u001b[0m \u001b[32m━━━━━━━━━━━━━━━━━━━━\u001b[0m\u001b[37m\u001b[0m \u001b[1m1s\u001b[0m 123ms/step - loss: 0.0016 - val_loss: 0.0064\n",
      "Epoch 38/100\n",
      "\u001b[1m9/9\u001b[0m \u001b[32m━━━━━━━━━━━━━━━━━━━━\u001b[0m\u001b[37m\u001b[0m \u001b[1m1s\u001b[0m 128ms/step - loss: 0.0015 - val_loss: 0.0030\n",
      "Epoch 39/100\n",
      "\u001b[1m9/9\u001b[0m \u001b[32m━━━━━━━━━━━━━━━━━━━━\u001b[0m\u001b[37m\u001b[0m \u001b[1m1s\u001b[0m 131ms/step - loss: 0.0016 - val_loss: 0.0029\n",
      "Epoch 40/100\n",
      "\u001b[1m9/9\u001b[0m \u001b[32m━━━━━━━━━━━━━━━━━━━━\u001b[0m\u001b[37m\u001b[0m \u001b[1m1s\u001b[0m 124ms/step - loss: 0.0018 - val_loss: 0.0037\n",
      "Epoch 41/100\n",
      "\u001b[1m9/9\u001b[0m \u001b[32m━━━━━━━━━━━━━━━━━━━━\u001b[0m\u001b[37m\u001b[0m \u001b[1m1s\u001b[0m 128ms/step - loss: 0.0016 - val_loss: 0.0034\n",
      "Epoch 42/100\n",
      "\u001b[1m9/9\u001b[0m \u001b[32m━━━━━━━━━━━━━━━━━━━━\u001b[0m\u001b[37m\u001b[0m \u001b[1m1s\u001b[0m 131ms/step - loss: 0.0015 - val_loss: 0.0030\n",
      "Epoch 43/100\n",
      "\u001b[1m9/9\u001b[0m \u001b[32m━━━━━━━━━━━━━━━━━━━━\u001b[0m\u001b[37m\u001b[0m \u001b[1m1s\u001b[0m 126ms/step - loss: 0.0016 - val_loss: 0.0028\n",
      "Epoch 44/100\n",
      "\u001b[1m9/9\u001b[0m \u001b[32m━━━━━━━━━━━━━━━━━━━━\u001b[0m\u001b[37m\u001b[0m \u001b[1m1s\u001b[0m 132ms/step - loss: 0.0014 - val_loss: 0.0027\n",
      "Epoch 45/100\n",
      "\u001b[1m9/9\u001b[0m \u001b[32m━━━━━━━━━━━━━━━━━━━━\u001b[0m\u001b[37m\u001b[0m \u001b[1m1s\u001b[0m 130ms/step - loss: 0.0016 - val_loss: 0.0028\n",
      "Epoch 46/100\n",
      "\u001b[1m9/9\u001b[0m \u001b[32m━━━━━━━━━━━━━━━━━━━━\u001b[0m\u001b[37m\u001b[0m \u001b[1m1s\u001b[0m 134ms/step - loss: 0.0015 - val_loss: 0.0027\n",
      "Epoch 47/100\n",
      "\u001b[1m9/9\u001b[0m \u001b[32m━━━━━━━━━━━━━━━━━━━━\u001b[0m\u001b[37m\u001b[0m \u001b[1m1s\u001b[0m 162ms/step - loss: 0.0014 - val_loss: 0.0031\n",
      "Epoch 48/100\n",
      "\u001b[1m9/9\u001b[0m \u001b[32m━━━━━━━━━━━━━━━━━━━━\u001b[0m\u001b[37m\u001b[0m \u001b[1m1s\u001b[0m 142ms/step - loss: 0.0013 - val_loss: 0.0047\n",
      "Epoch 49/100\n",
      "\u001b[1m9/9\u001b[0m \u001b[32m━━━━━━━━━━━━━━━━━━━━\u001b[0m\u001b[37m\u001b[0m \u001b[1m1s\u001b[0m 152ms/step - loss: 0.0013 - val_loss: 0.0025\n",
      "Epoch 50/100\n",
      "\u001b[1m9/9\u001b[0m \u001b[32m━━━━━━━━━━━━━━━━━━━━\u001b[0m\u001b[37m\u001b[0m \u001b[1m1s\u001b[0m 143ms/step - loss: 0.0013 - val_loss: 0.0030\n",
      "Epoch 51/100\n",
      "\u001b[1m9/9\u001b[0m \u001b[32m━━━━━━━━━━━━━━━━━━━━\u001b[0m\u001b[37m\u001b[0m \u001b[1m1s\u001b[0m 139ms/step - loss: 0.0012 - val_loss: 0.0031\n",
      "Epoch 52/100\n",
      "\u001b[1m9/9\u001b[0m \u001b[32m━━━━━━━━━━━━━━━━━━━━\u001b[0m\u001b[37m\u001b[0m \u001b[1m1s\u001b[0m 130ms/step - loss: 0.0014 - val_loss: 0.0025\n",
      "Epoch 53/100\n",
      "\u001b[1m9/9\u001b[0m \u001b[32m━━━━━━━━━━━━━━━━━━━━\u001b[0m\u001b[37m\u001b[0m \u001b[1m1s\u001b[0m 130ms/step - loss: 0.0014 - val_loss: 0.0025\n",
      "Epoch 54/100\n",
      "\u001b[1m9/9\u001b[0m \u001b[32m━━━━━━━━━━━━━━━━━━━━\u001b[0m\u001b[37m\u001b[0m \u001b[1m1s\u001b[0m 129ms/step - loss: 0.0012 - val_loss: 0.0023\n",
      "Epoch 55/100\n",
      "\u001b[1m9/9\u001b[0m \u001b[32m━━━━━━━━━━━━━━━━━━━━\u001b[0m\u001b[37m\u001b[0m \u001b[1m1s\u001b[0m 151ms/step - loss: 9.6610e-04 - val_loss: 0.0031\n",
      "Epoch 56/100\n",
      "\u001b[1m9/9\u001b[0m \u001b[32m━━━━━━━━━━━━━━━━━━━━\u001b[0m\u001b[37m\u001b[0m \u001b[1m1s\u001b[0m 141ms/step - loss: 0.0012 - val_loss: 0.0022\n",
      "Epoch 57/100\n",
      "\u001b[1m9/9\u001b[0m \u001b[32m━━━━━━━━━━━━━━━━━━━━\u001b[0m\u001b[37m\u001b[0m \u001b[1m1s\u001b[0m 132ms/step - loss: 0.0011 - val_loss: 0.0023\n",
      "Epoch 58/100\n",
      "\u001b[1m9/9\u001b[0m \u001b[32m━━━━━━━━━━━━━━━━━━━━\u001b[0m\u001b[37m\u001b[0m \u001b[1m2s\u001b[0m 184ms/step - loss: 0.0012 - val_loss: 0.0041\n",
      "Epoch 59/100\n",
      "\u001b[1m9/9\u001b[0m \u001b[32m━━━━━━━━━━━━━━━━━━━━\u001b[0m\u001b[37m\u001b[0m \u001b[1m2s\u001b[0m 169ms/step - loss: 0.0011 - val_loss: 0.0022\n",
      "Epoch 60/100\n",
      "\u001b[1m9/9\u001b[0m \u001b[32m━━━━━━━━━━━━━━━━━━━━\u001b[0m\u001b[37m\u001b[0m \u001b[1m3s\u001b[0m 171ms/step - loss: 0.0011 - val_loss: 0.0026\n",
      "Epoch 61/100\n",
      "\u001b[1m9/9\u001b[0m \u001b[32m━━━━━━━━━━━━━━━━━━━━\u001b[0m\u001b[37m\u001b[0m \u001b[1m1s\u001b[0m 149ms/step - loss: 9.0756e-04 - val_loss: 0.0023\n",
      "Epoch 62/100\n",
      "\u001b[1m9/9\u001b[0m \u001b[32m━━━━━━━━━━━━━━━━━━━━\u001b[0m\u001b[37m\u001b[0m \u001b[1m1s\u001b[0m 158ms/step - loss: 8.5396e-04 - val_loss: 0.0020\n",
      "Epoch 63/100\n",
      "\u001b[1m9/9\u001b[0m \u001b[32m━━━━━━━━━━━━━━━━━━━━\u001b[0m\u001b[37m\u001b[0m \u001b[1m3s\u001b[0m 194ms/step - loss: 9.3153e-04 - val_loss: 0.0030\n",
      "Epoch 64/100\n",
      "\u001b[1m9/9\u001b[0m \u001b[32m━━━━━━━━━━━━━━━━━━━━\u001b[0m\u001b[37m\u001b[0m \u001b[1m2s\u001b[0m 177ms/step - loss: 9.6733e-04 - val_loss: 0.0022\n",
      "Epoch 65/100\n",
      "\u001b[1m9/9\u001b[0m \u001b[32m━━━━━━━━━━━━━━━━━━━━\u001b[0m\u001b[37m\u001b[0m \u001b[1m1s\u001b[0m 165ms/step - loss: 8.5647e-04 - val_loss: 0.0020\n",
      "Epoch 66/100\n",
      "\u001b[1m9/9\u001b[0m \u001b[32m━━━━━━━━━━━━━━━━━━━━\u001b[0m\u001b[37m\u001b[0m \u001b[1m2s\u001b[0m 174ms/step - loss: 9.0218e-04 - val_loss: 0.0022\n",
      "Epoch 67/100\n",
      "\u001b[1m9/9\u001b[0m \u001b[32m━━━━━━━━━━━━━━━━━━━━\u001b[0m\u001b[37m\u001b[0m \u001b[1m1s\u001b[0m 158ms/step - loss: 8.0551e-04 - val_loss: 0.0023\n",
      "Epoch 68/100\n",
      "\u001b[1m9/9\u001b[0m \u001b[32m━━━━━━━━━━━━━━━━━━━━\u001b[0m\u001b[37m\u001b[0m \u001b[1m1s\u001b[0m 144ms/step - loss: 7.3206e-04 - val_loss: 0.0018\n",
      "Epoch 69/100\n",
      "\u001b[1m9/9\u001b[0m \u001b[32m━━━━━━━━━━━━━━━━━━━━\u001b[0m\u001b[37m\u001b[0m \u001b[1m2s\u001b[0m 203ms/step - loss: 7.1372e-04 - val_loss: 0.0024\n",
      "Epoch 70/100\n",
      "\u001b[1m9/9\u001b[0m \u001b[32m━━━━━━━━━━━━━━━━━━━━\u001b[0m\u001b[37m\u001b[0m \u001b[1m1s\u001b[0m 159ms/step - loss: 6.6824e-04 - val_loss: 0.0024\n",
      "Epoch 71/100\n",
      "\u001b[1m9/9\u001b[0m \u001b[32m━━━━━━━━━━━━━━━━━━━━\u001b[0m\u001b[37m\u001b[0m \u001b[1m1s\u001b[0m 150ms/step - loss: 7.2051e-04 - val_loss: 0.0036\n",
      "Epoch 72/100\n",
      "\u001b[1m9/9\u001b[0m \u001b[32m━━━━━━━━━━━━━━━━━━━━\u001b[0m\u001b[37m\u001b[0m \u001b[1m2s\u001b[0m 174ms/step - loss: 7.7673e-04 - val_loss: 0.0019\n",
      "Epoch 73/100\n",
      "\u001b[1m9/9\u001b[0m \u001b[32m━━━━━━━━━━━━━━━━━━━━\u001b[0m\u001b[37m\u001b[0m \u001b[1m1s\u001b[0m 149ms/step - loss: 6.9605e-04 - val_loss: 0.0017\n",
      "Epoch 74/100\n",
      "\u001b[1m9/9\u001b[0m \u001b[32m━━━━━━━━━━━━━━━━━━━━\u001b[0m\u001b[37m\u001b[0m \u001b[1m1s\u001b[0m 158ms/step - loss: 6.5470e-04 - val_loss: 0.0019\n",
      "Epoch 75/100\n",
      "\u001b[1m9/9\u001b[0m \u001b[32m━━━━━━━━━━━━━━━━━━━━\u001b[0m\u001b[37m\u001b[0m \u001b[1m1s\u001b[0m 155ms/step - loss: 6.9138e-04 - val_loss: 0.0018\n",
      "Epoch 76/100\n",
      "\u001b[1m9/9\u001b[0m \u001b[32m━━━━━━━━━━━━━━━━━━━━\u001b[0m\u001b[37m\u001b[0m \u001b[1m1s\u001b[0m 140ms/step - loss: 6.6614e-04 - val_loss: 0.0031\n",
      "Epoch 77/100\n",
      "\u001b[1m9/9\u001b[0m \u001b[32m━━━━━━━━━━━━━━━━━━━━\u001b[0m\u001b[37m\u001b[0m \u001b[1m2s\u001b[0m 192ms/step - loss: 6.3971e-04 - val_loss: 0.0021\n",
      "Epoch 78/100\n",
      "\u001b[1m9/9\u001b[0m \u001b[32m━━━━━━━━━━━━━━━━━━━━\u001b[0m\u001b[37m\u001b[0m \u001b[1m1s\u001b[0m 142ms/step - loss: 7.0448e-04 - val_loss: 0.0020\n",
      "Epoch 79/100\n",
      "\u001b[1m9/9\u001b[0m \u001b[32m━━━━━━━━━━━━━━━━━━━━\u001b[0m\u001b[37m\u001b[0m \u001b[1m2s\u001b[0m 171ms/step - loss: 7.7728e-04 - val_loss: 0.0018\n",
      "Epoch 80/100\n",
      "\u001b[1m9/9\u001b[0m \u001b[32m━━━━━━━━━━━━━━━━━━━━\u001b[0m\u001b[37m\u001b[0m \u001b[1m2s\u001b[0m 176ms/step - loss: 6.5665e-04 - val_loss: 0.0032\n",
      "Epoch 81/100\n",
      "\u001b[1m9/9\u001b[0m \u001b[32m━━━━━━━━━━━━━━━━━━━━\u001b[0m\u001b[37m\u001b[0m \u001b[1m2s\u001b[0m 159ms/step - loss: 7.6845e-04 - val_loss: 0.0019\n",
      "Epoch 82/100\n",
      "\u001b[1m9/9\u001b[0m \u001b[32m━━━━━━━━━━━━━━━━━━━━\u001b[0m\u001b[37m\u001b[0m \u001b[1m1s\u001b[0m 144ms/step - loss: 5.8324e-04 - val_loss: 0.0019\n",
      "Epoch 83/100\n",
      "\u001b[1m9/9\u001b[0m \u001b[32m━━━━━━━━━━━━━━━━━━━━\u001b[0m\u001b[37m\u001b[0m \u001b[1m1s\u001b[0m 151ms/step - loss: 5.6319e-04 - val_loss: 0.0021\n",
      "Epoch 84/100\n",
      "\u001b[1m9/9\u001b[0m \u001b[32m━━━━━━━━━━━━━━━━━━━━\u001b[0m\u001b[37m\u001b[0m \u001b[1m1s\u001b[0m 151ms/step - loss: 5.5547e-04 - val_loss: 0.0019\n",
      "Epoch 85/100\n",
      "\u001b[1m9/9\u001b[0m \u001b[32m━━━━━━━━━━━━━━━━━━━━\u001b[0m\u001b[37m\u001b[0m \u001b[1m1s\u001b[0m 140ms/step - loss: 5.8732e-04 - val_loss: 0.0018\n",
      "Epoch 86/100\n",
      "\u001b[1m9/9\u001b[0m \u001b[32m━━━━━━━━━━━━━━━━━━━━\u001b[0m\u001b[37m\u001b[0m \u001b[1m1s\u001b[0m 153ms/step - loss: 5.6051e-04 - val_loss: 0.0017\n",
      "Epoch 87/100\n",
      "\u001b[1m9/9\u001b[0m \u001b[32m━━━━━━━━━━━━━━━━━━━━\u001b[0m\u001b[37m\u001b[0m \u001b[1m1s\u001b[0m 145ms/step - loss: 5.8596e-04 - val_loss: 0.0020\n",
      "Epoch 88/100\n",
      "\u001b[1m9/9\u001b[0m \u001b[32m━━━━━━━━━━━━━━━━━━━━\u001b[0m\u001b[37m\u001b[0m \u001b[1m1s\u001b[0m 159ms/step - loss: 4.9998e-04 - val_loss: 0.0016\n",
      "Epoch 89/100\n",
      "\u001b[1m9/9\u001b[0m \u001b[32m━━━━━━━━━━━━━━━━━━━━\u001b[0m\u001b[37m\u001b[0m \u001b[1m1s\u001b[0m 161ms/step - loss: 5.9716e-04 - val_loss: 0.0017\n",
      "Epoch 90/100\n",
      "\u001b[1m9/9\u001b[0m \u001b[32m━━━━━━━━━━━━━━━━━━━━\u001b[0m\u001b[37m\u001b[0m \u001b[1m1s\u001b[0m 154ms/step - loss: 5.7307e-04 - val_loss: 0.0019\n",
      "Epoch 91/100\n",
      "\u001b[1m9/9\u001b[0m \u001b[32m━━━━━━━━━━━━━━━━━━━━\u001b[0m\u001b[37m\u001b[0m \u001b[1m1s\u001b[0m 158ms/step - loss: 5.1245e-04 - val_loss: 0.0017\n",
      "Epoch 92/100\n",
      "\u001b[1m9/9\u001b[0m \u001b[32m━━━━━━━━━━━━━━━━━━━━\u001b[0m\u001b[37m\u001b[0m \u001b[1m1s\u001b[0m 159ms/step - loss: 5.9382e-04 - val_loss: 0.0019\n",
      "Epoch 93/100\n",
      "\u001b[1m9/9\u001b[0m \u001b[32m━━━━━━━━━━━━━━━━━━━━\u001b[0m\u001b[37m\u001b[0m \u001b[1m1s\u001b[0m 148ms/step - loss: 5.1077e-04 - val_loss: 0.0015\n",
      "Epoch 94/100\n",
      "\u001b[1m9/9\u001b[0m \u001b[32m━━━━━━━━━━━━━━━━━━━━\u001b[0m\u001b[37m\u001b[0m \u001b[1m1s\u001b[0m 147ms/step - loss: 6.5533e-04 - val_loss: 0.0018\n",
      "Epoch 95/100\n",
      "\u001b[1m9/9\u001b[0m \u001b[32m━━━━━━━━━━━━━━━━━━━━\u001b[0m\u001b[37m\u001b[0m \u001b[1m1s\u001b[0m 151ms/step - loss: 7.2116e-04 - val_loss: 0.0015\n",
      "Epoch 96/100\n",
      "\u001b[1m9/9\u001b[0m \u001b[32m━━━━━━━━━━━━━━━━━━━━\u001b[0m\u001b[37m\u001b[0m \u001b[1m1s\u001b[0m 151ms/step - loss: 5.9963e-04 - val_loss: 0.0018\n",
      "Epoch 97/100\n",
      "\u001b[1m9/9\u001b[0m \u001b[32m━━━━━━━━━━━━━━━━━━━━\u001b[0m\u001b[37m\u001b[0m \u001b[1m1s\u001b[0m 139ms/step - loss: 5.8687e-04 - val_loss: 0.0014\n",
      "Epoch 98/100\n",
      "\u001b[1m9/9\u001b[0m \u001b[32m━━━━━━━━━━━━━━━━━━━━\u001b[0m\u001b[37m\u001b[0m \u001b[1m1s\u001b[0m 157ms/step - loss: 5.7437e-04 - val_loss: 0.0018\n",
      "Epoch 99/100\n",
      "\u001b[1m9/9\u001b[0m \u001b[32m━━━━━━━━━━━━━━━━━━━━\u001b[0m\u001b[37m\u001b[0m \u001b[1m2s\u001b[0m 184ms/step - loss: 6.5277e-04 - val_loss: 0.0015\n",
      "Epoch 100/100\n",
      "\u001b[1m9/9\u001b[0m \u001b[32m━━━━━━━━━━━━━━━━━━━━\u001b[0m\u001b[37m\u001b[0m \u001b[1m2s\u001b[0m 180ms/step - loss: 5.0460e-04 - val_loss: 0.0014\n"
     ]
    },
    {
     "data": {
      "text/plain": [
       "<keras.src.callbacks.history.History at 0x1481ceb1bd0>"
      ]
     },
     "execution_count": 27,
     "metadata": {},
     "output_type": "execute_result"
    }
   ],
   "source": [
    "model.fit(x_train, y_train, validation_data = (x_test, y_test), epochs = 100, batch_size = 64, verbose =1)"
   ]
  },
  {
   "cell_type": "code",
   "execution_count": 28,
   "id": "3a7b5120-75c6-496c-bf48-52ed353a1ed2",
   "metadata": {},
   "outputs": [
    {
     "name": "stdout",
     "output_type": "stream",
     "text": [
      "\u001b[1m18/18\u001b[0m \u001b[32m━━━━━━━━━━━━━━━━━━━━\u001b[0m\u001b[37m\u001b[0m \u001b[1m2s\u001b[0m 75ms/step\n",
      "\u001b[1m8/8\u001b[0m \u001b[32m━━━━━━━━━━━━━━━━━━━━\u001b[0m\u001b[37m\u001b[0m \u001b[1m0s\u001b[0m 43ms/step\n"
     ]
    }
   ],
   "source": [
    "##let's do the predictions and check the performance metrics\n",
    "\n",
    "train_predict = model.predict(x_train)\n",
    "test_predict = model.predict(x_test)"
   ]
  },
  {
   "cell_type": "code",
   "execution_count": 29,
   "id": "48f125ed-6a6d-476b-93d6-a1a682705aa4",
   "metadata": {},
   "outputs": [],
   "source": [
    "## Transform back to original form\n",
    "\n",
    "train_predict = scaler.inverse_transform(train_predict)\n",
    "test_predict = scaler.inverse_transform(test_predict)"
   ]
  },
  {
   "cell_type": "code",
   "execution_count": 30,
   "id": "52eff359-5061-4b2b-b242-d7760f4ad2c6",
   "metadata": {},
   "outputs": [
    {
     "data": {
      "text/plain": [
       "363.90134709769563"
      ]
     },
     "execution_count": 30,
     "metadata": {},
     "output_type": "execute_result"
    }
   ],
   "source": [
    "## Now Let's calculate RMSE performance metrics\n",
    "\n",
    "import math\n",
    "from sklearn.metrics import mean_squared_error\n",
    "math.sqrt(mean_squared_error(y_train, train_predict))"
   ]
  },
  {
   "cell_type": "code",
   "execution_count": 31,
   "id": "157dd86f-e5f3-4ea3-8fa2-2ec81719d12b",
   "metadata": {
    "scrolled": true
   },
   "outputs": [
    {
     "data": {
      "text/plain": [
       "556.9574630623302"
      ]
     },
     "execution_count": 31,
     "metadata": {},
     "output_type": "execute_result"
    }
   ],
   "source": [
    "## Test Data RMSE\n",
    "math.sqrt(mean_squared_error(y_test, test_predict))"
   ]
  },
  {
   "cell_type": "code",
   "execution_count": 32,
   "id": "a84101a4-fa19-48de-a93c-4d1233b7e3a7",
   "metadata": {},
   "outputs": [
    {
     "data": {
      "image/png": "[encoded data removed]",
      "text/plain": [
       "<Figure size 640x480 with 1 Axes>"
      ]
     },
     "metadata": {},
     "output_type": "display_data"
    }
   ],
   "source": [
    "### Plotting\n",
    "#shift train predictions for plotting\n",
    "look_back = 100\n",
    "trainPP = np.empty_like(df1)\n",
    "trainPP[:, :] = np.nan\n",
    "trainPP[look_back : len(train_predict)+look_back, :] = train_predict\n",
    "#shift test predictions for plotting\n",
    "testPP = np.empty_like(df1)\n",
    "testPP[:, :] = np.nan\n",
    "testPP[len(train_predict) + (look_back * 2) + 1 : len(df1)-1, :] = test_predict\n",
    "\n",
    "#plot baselines and predictions\n",
    "plt.plot(scaler.inverse_transform(df1))\n",
    "plt.plot(trainPP)\n",
    "plt.plot(testPP)\n",
    "plt.show()"
   ]
  },
  {
   "cell_type": "code",
   "execution_count": 33,
   "id": "49b9abde-6e3f-483b-a49f-1952f81cbd68",
   "metadata": {},
   "outputs": [
    {
     "data": {
      "text/plain": [
       "354"
      ]
     },
     "execution_count": 33,
     "metadata": {},
     "output_type": "execute_result"
    }
   ],
   "source": [
    "len(test_data)"
   ]
  },
  {
   "cell_type": "code",
   "execution_count": 34,
   "id": "c1542056-dd12-4907-890d-9b75eaec2737",
   "metadata": {},
   "outputs": [
    {
     "data": {
      "text/plain": [
       "(1, 100)"
      ]
     },
     "execution_count": 34,
     "metadata": {},
     "output_type": "execute_result"
    }
   ],
   "source": [
    "## predicting next 30 days\n",
    "\n",
    "x_input = test_data[254:].reshape(1,-1)\n",
    "x_input.shape"
   ]
  },
  {
   "cell_type": "code",
   "execution_count": 35,
   "id": "6be40cc2-b8c0-402d-a4bf-7f176a048baa",
   "metadata": {},
   "outputs": [],
   "source": [
    "temp_input = list(x_input)\n",
    "temp_input = temp_input[0].tolist()"
   ]
  },
  {
   "cell_type": "code",
   "execution_count": 36,
   "id": "4ce7861a-e623-48ba-924b-874a85220f2a",
   "metadata": {},
   "outputs": [
    {
     "name": "stdout",
     "output_type": "stream",
     "text": [
      "[0.41806248]\n",
      "101\n",
      "1 day input [0.77023219 0.77645742 0.74605183 0.74104981 0.77929713 0.78499816\n",
      " 0.78309782 0.7836439  0.76444371 0.79766714 0.82230625 0.82844416\n",
      " 0.8070378  0.87575631 0.88512696 0.8692907  0.87105998 0.85878416\n",
      " 0.85419716 0.86472556 0.87355013 0.86151455 0.88265868 0.88490858\n",
      " 0.85463405 0.91583838 0.94122022 0.95624816 0.94938952 0.93715729\n",
      " 0.9614687  0.99698564 0.97702099 0.96948509 0.99257329 0.94912741\n",
      " 0.8995871  0.9121033  0.92202003 0.90218643 0.92549314 0.98016641\n",
      " 0.97300193 0.99062935 1.         0.97887774 0.97184418 0.92903172\n",
      " 0.91780432 0.92704392 0.94309869 0.93916696 0.89124314 0.83853568\n",
      " 0.83569596 0.804373   0.82743933 0.85559515 0.86105593 0.82374784\n",
      " 0.82518942 0.80968086 0.79532991 0.81072929 0.78019265 0.77073453\n",
      " 0.78604659 0.81046718 0.83082499 0.83049742 0.82837857 0.82311443\n",
      " 0.82274301 0.8261288  0.80505013 0.79397565 0.78038929 0.72877398\n",
      " 0.69769113 0.67097703 0.66833397 0.67049655 0.66258921 0.623228\n",
      " 0.63740416 0.60487972 0.61593233 0.59930975 0.35739716 0.33478952\n",
      " 0.28950877 0.27483019 0.33380662 0.32869527 0.42214021 0.48764772\n",
      " 0.4272515  0.37509011 0.38507243 0.41806248]\n",
      "1 day output [[0.43624362]]\n",
      "2 day input [0.77645742 0.74605183 0.74104981 0.77929713 0.78499816 0.78309782\n",
      " 0.7836439  0.76444371 0.79766714 0.82230625 0.82844416 0.8070378\n",
      " 0.87575631 0.88512696 0.8692907  0.87105998 0.85878416 0.85419716\n",
      " 0.86472556 0.87355013 0.86151455 0.88265868 0.88490858 0.85463405\n",
      " 0.91583838 0.94122022 0.95624816 0.94938952 0.93715729 0.9614687\n",
      " 0.99698564 0.97702099 0.96948509 0.99257329 0.94912741 0.8995871\n",
      " 0.9121033  0.92202003 0.90218643 0.92549314 0.98016641 0.97300193\n",
      " 0.99062935 1.         0.97887774 0.97184418 0.92903172 0.91780432\n",
      " 0.92704392 0.94309869 0.93916696 0.89124314 0.83853568 0.83569596\n",
      " 0.804373   0.82743933 0.85559515 0.86105593 0.82374784 0.82518942\n",
      " 0.80968086 0.79532991 0.81072929 0.78019265 0.77073453 0.78604659\n",
      " 0.81046718 0.83082499 0.83049742 0.82837857 0.82311443 0.82274301\n",
      " 0.8261288  0.80505013 0.79397565 0.78038929 0.72877398 0.69769113\n",
      " 0.67097703 0.66833397 0.67049655 0.66258921 0.623228   0.63740416\n",
      " 0.60487972 0.61593233 0.59930975 0.35739716 0.33478952 0.28950877\n",
      " 0.27483019 0.33380662 0.32869527 0.42214021 0.48764772 0.4272515\n",
      " 0.37509011 0.38507243 0.41806248 0.43624362]\n",
      "2 day output [[0.4702676]]\n",
      "3 day input [0.74605183 0.74104981 0.77929713 0.78499816 0.78309782 0.7836439\n",
      " 0.76444371 0.79766714 0.82230625 0.82844416 0.8070378  0.87575631\n",
      " 0.88512696 0.8692907  0.87105998 0.85878416 0.85419716 0.86472556\n",
      " 0.87355013 0.86151455 0.88265868 0.88490858 0.85463405 0.91583838\n",
      " 0.94122022 0.95624816 0.94938952 0.93715729 0.9614687  0.99698564\n",
      " 0.97702099 0.96948509 0.99257329 0.94912741 0.8995871  0.9121033\n",
      " 0.92202003 0.90218643 0.92549314 0.98016641 0.97300193 0.99062935\n",
      " 1.         0.97887774 0.97184418 0.92903172 0.91780432 0.92704392\n",
      " 0.94309869 0.93916696 0.89124314 0.83853568 0.83569596 0.804373\n",
      " 0.82743933 0.85559515 0.86105593 0.82374784 0.82518942 0.80968086\n",
      " 0.79532991 0.81072929 0.78019265 0.77073453 0.78604659 0.81046718\n",
      " 0.83082499 0.83049742 0.82837857 0.82311443 0.82274301 0.8261288\n",
      " 0.80505013 0.79397565 0.78038929 0.72877398 0.69769113 0.67097703\n",
      " 0.66833397 0.67049655 0.66258921 0.623228   0.63740416 0.60487972\n",
      " 0.61593233 0.59930975 0.35739716 0.33478952 0.28950877 0.27483019\n",
      " 0.33380662 0.32869527 0.42214021 0.48764772 0.4272515  0.37509011\n",
      " 0.38507243 0.41806248 0.43624362 0.47026759]\n",
      "3 day output [[0.5070679]]\n",
      "4 day input [0.74104981 0.77929713 0.78499816 0.78309782 0.7836439  0.76444371\n",
      " 0.79766714 0.82230625 0.82844416 0.8070378  0.87575631 0.88512696\n",
      " 0.8692907  0.87105998 0.85878416 0.85419716 0.86472556 0.87355013\n",
      " 0.86151455 0.88265868 0.88490858 0.85463405 0.91583838 0.94122022\n",
      " 0.95624816 0.94938952 0.93715729 0.9614687  0.99698564 0.97702099\n",
      " 0.96948509 0.99257329 0.94912741 0.8995871  0.9121033  0.92202003\n",
      " 0.90218643 0.92549314 0.98016641 0.97300193 0.99062935 1.\n",
      " 0.97887774 0.97184418 0.92903172 0.91780432 0.92704392 0.94309869\n",
      " 0.93916696 0.89124314 0.83853568 0.83569596 0.804373   0.82743933\n",
      " 0.85559515 0.86105593 0.82374784 0.82518942 0.80968086 0.79532991\n",
      " 0.81072929 0.78019265 0.77073453 0.78604659 0.81046718 0.83082499\n",
      " 0.83049742 0.82837857 0.82311443 0.82274301 0.8261288  0.80505013\n",
      " 0.79397565 0.78038929 0.72877398 0.69769113 0.67097703 0.66833397\n",
      " 0.67049655 0.66258921 0.623228   0.63740416 0.60487972 0.61593233\n",
      " 0.59930975 0.35739716 0.33478952 0.28950877 0.27483019 0.33380662\n",
      " 0.32869527 0.42214021 0.48764772 0.4272515  0.37509011 0.38507243\n",
      " 0.41806248 0.43624362 0.47026759 0.50706792]\n",
      "4 day output [[0.5443868]]\n",
      "5 day input [0.77929713 0.78499816 0.78309782 0.7836439  0.76444371 0.79766714\n",
      " 0.82230625 0.82844416 0.8070378  0.87575631 0.88512696 0.8692907\n",
      " 0.87105998 0.85878416 0.85419716 0.86472556 0.87355013 0.86151455\n",
      " 0.88265868 0.88490858 0.85463405 0.91583838 0.94122022 0.95624816\n",
      " 0.94938952 0.93715729 0.9614687  0.99698564 0.97702099 0.96948509\n",
      " 0.99257329 0.94912741 0.8995871  0.9121033  0.92202003 0.90218643\n",
      " 0.92549314 0.98016641 0.97300193 0.99062935 1.         0.97887774\n",
      " 0.97184418 0.92903172 0.91780432 0.92704392 0.94309869 0.93916696\n",
      " 0.89124314 0.83853568 0.83569596 0.804373   0.82743933 0.85559515\n",
      " 0.86105593 0.82374784 0.82518942 0.80968086 0.79532991 0.81072929\n",
      " 0.78019265 0.77073453 0.78604659 0.81046718 0.83082499 0.83049742\n",
      " 0.82837857 0.82311443 0.82274301 0.8261288  0.80505013 0.79397565\n",
      " 0.78038929 0.72877398 0.69769113 0.67097703 0.66833397 0.67049655\n",
      " 0.66258921 0.623228   0.63740416 0.60487972 0.61593233 0.59930975\n",
      " 0.35739716 0.33478952 0.28950877 0.27483019 0.33380662 0.32869527\n",
      " 0.42214021 0.48764772 0.4272515  0.37509011 0.38507243 0.41806248\n",
      " 0.43624362 0.47026759 0.50706792 0.5443868 ]\n",
      "5 day output [[0.5807826]]\n",
      "6 day input [0.78499816 0.78309782 0.7836439  0.76444371 0.79766714 0.82230625\n",
      " 0.82844416 0.8070378  0.87575631 0.88512696 0.8692907  0.87105998\n",
      " 0.85878416 0.85419716 0.86472556 0.87355013 0.86151455 0.88265868\n",
      " 0.88490858 0.85463405 0.91583838 0.94122022 0.95624816 0.94938952\n",
      " 0.93715729 0.9614687  0.99698564 0.97702099 0.96948509 0.99257329\n",
      " 0.94912741 0.8995871  0.9121033  0.92202003 0.90218643 0.92549314\n",
      " 0.98016641 0.97300193 0.99062935 1.         0.97887774 0.97184418\n",
      " 0.92903172 0.91780432 0.92704392 0.94309869 0.93916696 0.89124314\n",
      " 0.83853568 0.83569596 0.804373   0.82743933 0.85559515 0.86105593\n",
      " 0.82374784 0.82518942 0.80968086 0.79532991 0.81072929 0.78019265\n",
      " 0.77073453 0.78604659 0.81046718 0.83082499 0.83049742 0.82837857\n",
      " 0.82311443 0.82274301 0.8261288  0.80505013 0.79397565 0.78038929\n",
      " 0.72877398 0.69769113 0.67097703 0.66833397 0.67049655 0.66258921\n",
      " 0.623228   0.63740416 0.60487972 0.61593233 0.59930975 0.35739716\n",
      " 0.33478952 0.28950877 0.27483019 0.33380662 0.32869527 0.42214021\n",
      " 0.48764772 0.4272515  0.37509011 0.38507243 0.41806248 0.43624362\n",
      " 0.47026759 0.50706792 0.5443868  0.58078259]\n",
      "6 day output [[0.6144914]]\n",
      "7 day input [0.78309782 0.7836439  0.76444371 0.79766714 0.82230625 0.82844416\n",
      " 0.8070378  0.87575631 0.88512696 0.8692907  0.87105998 0.85878416\n",
      " 0.85419716 0.86472556 0.87355013 0.86151455 0.88265868 0.88490858\n",
      " 0.85463405 0.91583838 0.94122022 0.95624816 0.94938952 0.93715729\n",
      " 0.9614687  0.99698564 0.97702099 0.96948509 0.99257329 0.94912741\n",
      " 0.8995871  0.9121033  0.92202003 0.90218643 0.92549314 0.98016641\n",
      " 0.97300193 0.99062935 1.         0.97887774 0.97184418 0.92903172\n",
      " 0.91780432 0.92704392 0.94309869 0.93916696 0.89124314 0.83853568\n",
      " 0.83569596 0.804373   0.82743933 0.85559515 0.86105593 0.82374784\n",
      " 0.82518942 0.80968086 0.79532991 0.81072929 0.78019265 0.77073453\n",
      " 0.78604659 0.81046718 0.83082499 0.83049742 0.82837857 0.82311443\n",
      " 0.82274301 0.8261288  0.80505013 0.79397565 0.78038929 0.72877398\n",
      " 0.69769113 0.67097703 0.66833397 0.67049655 0.66258921 0.623228\n",
      " 0.63740416 0.60487972 0.61593233 0.59930975 0.35739716 0.33478952\n",
      " 0.28950877 0.27483019 0.33380662 0.32869527 0.42214021 0.48764772\n",
      " 0.4272515  0.37509011 0.38507243 0.41806248 0.43624362 0.47026759\n",
      " 0.50706792 0.5443868  0.58078259 0.6144914 ]\n",
      "7 day output [[0.6440947]]\n",
      "8 day input [0.7836439  0.76444371 0.79766714 0.82230625 0.82844416 0.8070378\n",
      " 0.87575631 0.88512696 0.8692907  0.87105998 0.85878416 0.85419716\n",
      " 0.86472556 0.87355013 0.86151455 0.88265868 0.88490858 0.85463405\n",
      " 0.91583838 0.94122022 0.95624816 0.94938952 0.93715729 0.9614687\n",
      " 0.99698564 0.97702099 0.96948509 0.99257329 0.94912741 0.8995871\n",
      " 0.9121033  0.92202003 0.90218643 0.92549314 0.98016641 0.97300193\n",
      " 0.99062935 1.         0.97887774 0.97184418 0.92903172 0.91780432\n",
      " 0.92704392 0.94309869 0.93916696 0.89124314 0.83853568 0.83569596\n",
      " 0.804373   0.82743933 0.85559515 0.86105593 0.82374784 0.82518942\n",
      " 0.80968086 0.79532991 0.81072929 0.78019265 0.77073453 0.78604659\n",
      " 0.81046718 0.83082499 0.83049742 0.82837857 0.82311443 0.82274301\n",
      " 0.8261288  0.80505013 0.79397565 0.78038929 0.72877398 0.69769113\n",
      " 0.67097703 0.66833397 0.67049655 0.66258921 0.623228   0.63740416\n",
      " 0.60487972 0.61593233 0.59930975 0.35739716 0.33478952 0.28950877\n",
      " 0.27483019 0.33380662 0.32869527 0.42214021 0.48764772 0.4272515\n",
      " 0.37509011 0.38507243 0.41806248 0.43624362 0.47026759 0.50706792\n",
      " 0.5443868  0.58078259 0.6144914  0.64409471]\n",
      "8 day output [[0.6688977]]\n",
      "9 day input [0.76444371 0.79766714 0.82230625 0.82844416 0.8070378  0.87575631\n",
      " 0.88512696 0.8692907  0.87105998 0.85878416 0.85419716 0.86472556\n",
      " 0.87355013 0.86151455 0.88265868 0.88490858 0.85463405 0.91583838\n",
      " 0.94122022 0.95624816 0.94938952 0.93715729 0.9614687  0.99698564\n",
      " 0.97702099 0.96948509 0.99257329 0.94912741 0.8995871  0.9121033\n",
      " 0.92202003 0.90218643 0.92549314 0.98016641 0.97300193 0.99062935\n",
      " 1.         0.97887774 0.97184418 0.92903172 0.91780432 0.92704392\n",
      " 0.94309869 0.93916696 0.89124314 0.83853568 0.83569596 0.804373\n",
      " 0.82743933 0.85559515 0.86105593 0.82374784 0.82518942 0.80968086\n",
      " 0.79532991 0.81072929 0.78019265 0.77073453 0.78604659 0.81046718\n",
      " 0.83082499 0.83049742 0.82837857 0.82311443 0.82274301 0.8261288\n",
      " 0.80505013 0.79397565 0.78038929 0.72877398 0.69769113 0.67097703\n",
      " 0.66833397 0.67049655 0.66258921 0.623228   0.63740416 0.60487972\n",
      " 0.61593233 0.59930975 0.35739716 0.33478952 0.28950877 0.27483019\n",
      " 0.33380662 0.32869527 0.42214021 0.48764772 0.4272515  0.37509011\n",
      " 0.38507243 0.41806248 0.43624362 0.47026759 0.50706792 0.5443868\n",
      " 0.58078259 0.6144914  0.64409471 0.66889769]\n",
      "9 day output [[0.6889419]]\n",
      "10 day input [0.79766714 0.82230625 0.82844416 0.8070378  0.87575631 0.88512696\n",
      " 0.8692907  0.87105998 0.85878416 0.85419716 0.86472556 0.87355013\n",
      " 0.86151455 0.88265868 0.88490858 0.85463405 0.91583838 0.94122022\n",
      " 0.95624816 0.94938952 0.93715729 0.9614687  0.99698564 0.97702099\n",
      " 0.96948509 0.99257329 0.94912741 0.8995871  0.9121033  0.92202003\n",
      " 0.90218643 0.92549314 0.98016641 0.97300193 0.99062935 1.\n",
      " 0.97887774 0.97184418 0.92903172 0.91780432 0.92704392 0.94309869\n",
      " 0.93916696 0.89124314 0.83853568 0.83569596 0.804373   0.82743933\n",
      " 0.85559515 0.86105593 0.82374784 0.82518942 0.80968086 0.79532991\n",
      " 0.81072929 0.78019265 0.77073453 0.78604659 0.81046718 0.83082499\n",
      " 0.83049742 0.82837857 0.82311443 0.82274301 0.8261288  0.80505013\n",
      " 0.79397565 0.78038929 0.72877398 0.69769113 0.67097703 0.66833397\n",
      " 0.67049655 0.66258921 0.623228   0.63740416 0.60487972 0.61593233\n",
      " 0.59930975 0.35739716 0.33478952 0.28950877 0.27483019 0.33380662\n",
      " 0.32869527 0.42214021 0.48764772 0.4272515  0.37509011 0.38507243\n",
      " 0.41806248 0.43624362 0.47026759 0.50706792 0.5443868  0.58078259\n",
      " 0.6144914  0.64409471 0.66889769 0.6889419 ]\n",
      "10 day output [[0.7048042]]\n",
      "11 day input [0.82230625 0.82844416 0.8070378  0.87575631 0.88512696 0.8692907\n",
      " 0.87105998 0.85878416 0.85419716 0.86472556 0.87355013 0.86151455\n",
      " 0.88265868 0.88490858 0.85463405 0.91583838 0.94122022 0.95624816\n",
      " 0.94938952 0.93715729 0.9614687  0.99698564 0.97702099 0.96948509\n",
      " 0.99257329 0.94912741 0.8995871  0.9121033  0.92202003 0.90218643\n",
      " 0.92549314 0.98016641 0.97300193 0.99062935 1.         0.97887774\n",
      " 0.97184418 0.92903172 0.91780432 0.92704392 0.94309869 0.93916696\n",
      " 0.89124314 0.83853568 0.83569596 0.804373   0.82743933 0.85559515\n",
      " 0.86105593 0.82374784 0.82518942 0.80968086 0.79532991 0.81072929\n",
      " 0.78019265 0.77073453 0.78604659 0.81046718 0.83082499 0.83049742\n",
      " 0.82837857 0.82311443 0.82274301 0.8261288  0.80505013 0.79397565\n",
      " 0.78038929 0.72877398 0.69769113 0.67097703 0.66833397 0.67049655\n",
      " 0.66258921 0.623228   0.63740416 0.60487972 0.61593233 0.59930975\n",
      " 0.35739716 0.33478952 0.28950877 0.27483019 0.33380662 0.32869527\n",
      " 0.42214021 0.48764772 0.4272515  0.37509011 0.38507243 0.41806248\n",
      " 0.43624362 0.47026759 0.50706792 0.5443868  0.58078259 0.6144914\n",
      " 0.64409471 0.66889769 0.6889419  0.70480418]\n",
      "11 day output [[0.7172931]]\n",
      "12 day input [0.82844416 0.8070378  0.87575631 0.88512696 0.8692907  0.87105998\n",
      " 0.85878416 0.85419716 0.86472556 0.87355013 0.86151455 0.88265868\n",
      " 0.88490858 0.85463405 0.91583838 0.94122022 0.95624816 0.94938952\n",
      " 0.93715729 0.9614687  0.99698564 0.97702099 0.96948509 0.99257329\n",
      " 0.94912741 0.8995871  0.9121033  0.92202003 0.90218643 0.92549314\n",
      " 0.98016641 0.97300193 0.99062935 1.         0.97887774 0.97184418\n",
      " 0.92903172 0.91780432 0.92704392 0.94309869 0.93916696 0.89124314\n",
      " 0.83853568 0.83569596 0.804373   0.82743933 0.85559515 0.86105593\n",
      " 0.82374784 0.82518942 0.80968086 0.79532991 0.81072929 0.78019265\n",
      " 0.77073453 0.78604659 0.81046718 0.83082499 0.83049742 0.82837857\n",
      " 0.82311443 0.82274301 0.8261288  0.80505013 0.79397565 0.78038929\n",
      " 0.72877398 0.69769113 0.67097703 0.66833397 0.67049655 0.66258921\n",
      " 0.623228   0.63740416 0.60487972 0.61593233 0.59930975 0.35739716\n",
      " 0.33478952 0.28950877 0.27483019 0.33380662 0.32869527 0.42214021\n",
      " 0.48764772 0.4272515  0.37509011 0.38507243 0.41806248 0.43624362\n",
      " 0.47026759 0.50706792 0.5443868  0.58078259 0.6144914  0.64409471\n",
      " 0.66889769 0.6889419  0.70480418 0.71729308]\n",
      "12 day output [[0.72716117]]\n",
      "13 day input [0.8070378  0.87575631 0.88512696 0.8692907  0.87105998 0.85878416\n",
      " 0.85419716 0.86472556 0.87355013 0.86151455 0.88265868 0.88490858\n",
      " 0.85463405 0.91583838 0.94122022 0.95624816 0.94938952 0.93715729\n",
      " 0.9614687  0.99698564 0.97702099 0.96948509 0.99257329 0.94912741\n",
      " 0.8995871  0.9121033  0.92202003 0.90218643 0.92549314 0.98016641\n",
      " 0.97300193 0.99062935 1.         0.97887774 0.97184418 0.92903172\n",
      " 0.91780432 0.92704392 0.94309869 0.93916696 0.89124314 0.83853568\n",
      " 0.83569596 0.804373   0.82743933 0.85559515 0.86105593 0.82374784\n",
      " 0.82518942 0.80968086 0.79532991 0.81072929 0.78019265 0.77073453\n",
      " 0.78604659 0.81046718 0.83082499 0.83049742 0.82837857 0.82311443\n",
      " 0.82274301 0.8261288  0.80505013 0.79397565 0.78038929 0.72877398\n",
      " 0.69769113 0.67097703 0.66833397 0.67049655 0.66258921 0.623228\n",
      " 0.63740416 0.60487972 0.61593233 0.59930975 0.35739716 0.33478952\n",
      " 0.28950877 0.27483019 0.33380662 0.32869527 0.42214021 0.48764772\n",
      " 0.4272515  0.37509011 0.38507243 0.41806248 0.43624362 0.47026759\n",
      " 0.50706792 0.5443868  0.58078259 0.6144914  0.64409471 0.66889769\n",
      " 0.6889419  0.70480418 0.71729308 0.72716117]\n",
      "13 day output [[0.73490494]]\n",
      "14 day input [0.87575631 0.88512696 0.8692907  0.87105998 0.85878416 0.85419716\n",
      " 0.86472556 0.87355013 0.86151455 0.88265868 0.88490858 0.85463405\n",
      " 0.91583838 0.94122022 0.95624816 0.94938952 0.93715729 0.9614687\n",
      " 0.99698564 0.97702099 0.96948509 0.99257329 0.94912741 0.8995871\n",
      " 0.9121033  0.92202003 0.90218643 0.92549314 0.98016641 0.97300193\n",
      " 0.99062935 1.         0.97887774 0.97184418 0.92903172 0.91780432\n",
      " 0.92704392 0.94309869 0.93916696 0.89124314 0.83853568 0.83569596\n",
      " 0.804373   0.82743933 0.85559515 0.86105593 0.82374784 0.82518942\n",
      " 0.80968086 0.79532991 0.81072929 0.78019265 0.77073453 0.78604659\n",
      " 0.81046718 0.83082499 0.83049742 0.82837857 0.82311443 0.82274301\n",
      " 0.8261288  0.80505013 0.79397565 0.78038929 0.72877398 0.69769113\n",
      " 0.67097703 0.66833397 0.67049655 0.66258921 0.623228   0.63740416\n",
      " 0.60487972 0.61593233 0.59930975 0.35739716 0.33478952 0.28950877\n",
      " 0.27483019 0.33380662 0.32869527 0.42214021 0.48764772 0.4272515\n",
      " 0.37509011 0.38507243 0.41806248 0.43624362 0.47026759 0.50706792\n",
      " 0.5443868  0.58078259 0.6144914  0.64409471 0.66889769 0.6889419\n",
      " 0.70480418 0.71729308 0.72716117 0.73490494]\n",
      "14 day output [[0.74069583]]\n",
      "15 day input [0.88512696 0.8692907  0.87105998 0.85878416 0.85419716 0.86472556\n",
      " 0.87355013 0.86151455 0.88265868 0.88490858 0.85463405 0.91583838\n",
      " 0.94122022 0.95624816 0.94938952 0.93715729 0.9614687  0.99698564\n",
      " 0.97702099 0.96948509 0.99257329 0.94912741 0.8995871  0.9121033\n",
      " 0.92202003 0.90218643 0.92549314 0.98016641 0.97300193 0.99062935\n",
      " 1.         0.97887774 0.97184418 0.92903172 0.91780432 0.92704392\n",
      " 0.94309869 0.93916696 0.89124314 0.83853568 0.83569596 0.804373\n",
      " 0.82743933 0.85559515 0.86105593 0.82374784 0.82518942 0.80968086\n",
      " 0.79532991 0.81072929 0.78019265 0.77073453 0.78604659 0.81046718\n",
      " 0.83082499 0.83049742 0.82837857 0.82311443 0.82274301 0.8261288\n",
      " 0.80505013 0.79397565 0.78038929 0.72877398 0.69769113 0.67097703\n",
      " 0.66833397 0.67049655 0.66258921 0.623228   0.63740416 0.60487972\n",
      " 0.61593233 0.59930975 0.35739716 0.33478952 0.28950877 0.27483019\n",
      " 0.33380662 0.32869527 0.42214021 0.48764772 0.4272515  0.37509011\n",
      " 0.38507243 0.41806248 0.43624362 0.47026759 0.50706792 0.5443868\n",
      " 0.58078259 0.6144914  0.64409471 0.66889769 0.6889419  0.70480418\n",
      " 0.71729308 0.72716117 0.73490494 0.74069583]\n",
      "15 day output [[0.74442255]]\n",
      "16 day input [0.8692907  0.87105998 0.85878416 0.85419716 0.86472556 0.87355013\n",
      " 0.86151455 0.88265868 0.88490858 0.85463405 0.91583838 0.94122022\n",
      " 0.95624816 0.94938952 0.93715729 0.9614687  0.99698564 0.97702099\n",
      " 0.96948509 0.99257329 0.94912741 0.8995871  0.9121033  0.92202003\n",
      " 0.90218643 0.92549314 0.98016641 0.97300193 0.99062935 1.\n",
      " 0.97887774 0.97184418 0.92903172 0.91780432 0.92704392 0.94309869\n",
      " 0.93916696 0.89124314 0.83853568 0.83569596 0.804373   0.82743933\n",
      " 0.85559515 0.86105593 0.82374784 0.82518942 0.80968086 0.79532991\n",
      " 0.81072929 0.78019265 0.77073453 0.78604659 0.81046718 0.83082499\n",
      " 0.83049742 0.82837857 0.82311443 0.82274301 0.8261288  0.80505013\n",
      " 0.79397565 0.78038929 0.72877398 0.69769113 0.67097703 0.66833397\n",
      " 0.67049655 0.66258921 0.623228   0.63740416 0.60487972 0.61593233\n",
      " 0.59930975 0.35739716 0.33478952 0.28950877 0.27483019 0.33380662\n",
      " 0.32869527 0.42214021 0.48764772 0.4272515  0.37509011 0.38507243\n",
      " 0.41806248 0.43624362 0.47026759 0.50706792 0.5443868  0.58078259\n",
      " 0.6144914  0.64409471 0.66889769 0.6889419  0.70480418 0.71729308\n",
      " 0.72716117 0.73490494 0.74069583 0.74442255]\n",
      "16 day output [[0.745803]]\n",
      "17 day input [0.87105998 0.85878416 0.85419716 0.86472556 0.87355013 0.86151455\n",
      " 0.88265868 0.88490858 0.85463405 0.91583838 0.94122022 0.95624816\n",
      " 0.94938952 0.93715729 0.9614687  0.99698564 0.97702099 0.96948509\n",
      " 0.99257329 0.94912741 0.8995871  0.9121033  0.92202003 0.90218643\n",
      " 0.92549314 0.98016641 0.97300193 0.99062935 1.         0.97887774\n",
      " 0.97184418 0.92903172 0.91780432 0.92704392 0.94309869 0.93916696\n",
      " 0.89124314 0.83853568 0.83569596 0.804373   0.82743933 0.85559515\n",
      " 0.86105593 0.82374784 0.82518942 0.80968086 0.79532991 0.81072929\n",
      " 0.78019265 0.77073453 0.78604659 0.81046718 0.83082499 0.83049742\n",
      " 0.82837857 0.82311443 0.82274301 0.8261288  0.80505013 0.79397565\n",
      " 0.78038929 0.72877398 0.69769113 0.67097703 0.66833397 0.67049655\n",
      " 0.66258921 0.623228   0.63740416 0.60487972 0.61593233 0.59930975\n",
      " 0.35739716 0.33478952 0.28950877 0.27483019 0.33380662 0.32869527\n",
      " 0.42214021 0.48764772 0.4272515  0.37509011 0.38507243 0.41806248\n",
      " 0.43624362 0.47026759 0.50706792 0.5443868  0.58078259 0.6144914\n",
      " 0.64409471 0.66889769 0.6889419  0.70480418 0.71729308 0.72716117\n",
      " 0.73490494 0.74069583 0.74442255 0.745803  ]\n",
      "17 day output [[0.74452657]]\n",
      "18 day input [0.85878416 0.85419716 0.86472556 0.87355013 0.86151455 0.88265868\n",
      " 0.88490858 0.85463405 0.91583838 0.94122022 0.95624816 0.94938952\n",
      " 0.93715729 0.9614687  0.99698564 0.97702099 0.96948509 0.99257329\n",
      " 0.94912741 0.8995871  0.9121033  0.92202003 0.90218643 0.92549314\n",
      " 0.98016641 0.97300193 0.99062935 1.         0.97887774 0.97184418\n",
      " 0.92903172 0.91780432 0.92704392 0.94309869 0.93916696 0.89124314\n",
      " 0.83853568 0.83569596 0.804373   0.82743933 0.85559515 0.86105593\n",
      " 0.82374784 0.82518942 0.80968086 0.79532991 0.81072929 0.78019265\n",
      " 0.77073453 0.78604659 0.81046718 0.83082499 0.83049742 0.82837857\n",
      " 0.82311443 0.82274301 0.8261288  0.80505013 0.79397565 0.78038929\n",
      " 0.72877398 0.69769113 0.67097703 0.66833397 0.67049655 0.66258921\n",
      " 0.623228   0.63740416 0.60487972 0.61593233 0.59930975 0.35739716\n",
      " 0.33478952 0.28950877 0.27483019 0.33380662 0.32869527 0.42214021\n",
      " 0.48764772 0.4272515  0.37509011 0.38507243 0.41806248 0.43624362\n",
      " 0.47026759 0.50706792 0.5443868  0.58078259 0.6144914  0.64409471\n",
      " 0.66889769 0.6889419  0.70480418 0.71729308 0.72716117 0.73490494\n",
      " 0.74069583 0.74442255 0.745803   0.74452657]\n",
      "18 day output [[0.74037975]]\n",
      "19 day input [0.85419716 0.86472556 0.87355013 0.86151455 0.88265868 0.88490858\n",
      " 0.85463405 0.91583838 0.94122022 0.95624816 0.94938952 0.93715729\n",
      " 0.9614687  0.99698564 0.97702099 0.96948509 0.99257329 0.94912741\n",
      " 0.8995871  0.9121033  0.92202003 0.90218643 0.92549314 0.98016641\n",
      " 0.97300193 0.99062935 1.         0.97887774 0.97184418 0.92903172\n",
      " 0.91780432 0.92704392 0.94309869 0.93916696 0.89124314 0.83853568\n",
      " 0.83569596 0.804373   0.82743933 0.85559515 0.86105593 0.82374784\n",
      " 0.82518942 0.80968086 0.79532991 0.81072929 0.78019265 0.77073453\n",
      " 0.78604659 0.81046718 0.83082499 0.83049742 0.82837857 0.82311443\n",
      " 0.82274301 0.8261288  0.80505013 0.79397565 0.78038929 0.72877398\n",
      " 0.69769113 0.67097703 0.66833397 0.67049655 0.66258921 0.623228\n",
      " 0.63740416 0.60487972 0.61593233 0.59930975 0.35739716 0.33478952\n",
      " 0.28950877 0.27483019 0.33380662 0.32869527 0.42214021 0.48764772\n",
      " 0.4272515  0.37509011 0.38507243 0.41806248 0.43624362 0.47026759\n",
      " 0.50706792 0.5443868  0.58078259 0.6144914  0.64409471 0.66889769\n",
      " 0.6889419  0.70480418 0.71729308 0.72716117 0.73490494 0.74069583\n",
      " 0.74442255 0.745803   0.74452657 0.74037975]\n",
      "19 day output [[0.73334026]]\n",
      "20 day input [0.86472556 0.87355013 0.86151455 0.88265868 0.88490858 0.85463405\n",
      " 0.91583838 0.94122022 0.95624816 0.94938952 0.93715729 0.9614687\n",
      " 0.99698564 0.97702099 0.96948509 0.99257329 0.94912741 0.8995871\n",
      " 0.9121033  0.92202003 0.90218643 0.92549314 0.98016641 0.97300193\n",
      " 0.99062935 1.         0.97887774 0.97184418 0.92903172 0.91780432\n",
      " 0.92704392 0.94309869 0.93916696 0.89124314 0.83853568 0.83569596\n",
      " 0.804373   0.82743933 0.85559515 0.86105593 0.82374784 0.82518942\n",
      " 0.80968086 0.79532991 0.81072929 0.78019265 0.77073453 0.78604659\n",
      " 0.81046718 0.83082499 0.83049742 0.82837857 0.82311443 0.82274301\n",
      " 0.8261288  0.80505013 0.79397565 0.78038929 0.72877398 0.69769113\n",
      " 0.67097703 0.66833397 0.67049655 0.66258921 0.623228   0.63740416\n",
      " 0.60487972 0.61593233 0.59930975 0.35739716 0.33478952 0.28950877\n",
      " 0.27483019 0.33380662 0.32869527 0.42214021 0.48764772 0.4272515\n",
      " 0.37509011 0.38507243 0.41806248 0.43624362 0.47026759 0.50706792\n",
      " 0.5443868  0.58078259 0.6144914  0.64409471 0.66889769 0.6889419\n",
      " 0.70480418 0.71729308 0.72716117 0.73490494 0.74069583 0.74442255\n",
      " 0.745803   0.74452657 0.74037975 0.73334026]\n",
      "20 day output [[0.7236214]]\n",
      "21 day input [0.87355013 0.86151455 0.88265868 0.88490858 0.85463405 0.91583838\n",
      " 0.94122022 0.95624816 0.94938952 0.93715729 0.9614687  0.99698564\n",
      " 0.97702099 0.96948509 0.99257329 0.94912741 0.8995871  0.9121033\n",
      " 0.92202003 0.90218643 0.92549314 0.98016641 0.97300193 0.99062935\n",
      " 1.         0.97887774 0.97184418 0.92903172 0.91780432 0.92704392\n",
      " 0.94309869 0.93916696 0.89124314 0.83853568 0.83569596 0.804373\n",
      " 0.82743933 0.85559515 0.86105593 0.82374784 0.82518942 0.80968086\n",
      " 0.79532991 0.81072929 0.78019265 0.77073453 0.78604659 0.81046718\n",
      " 0.83082499 0.83049742 0.82837857 0.82311443 0.82274301 0.8261288\n",
      " 0.80505013 0.79397565 0.78038929 0.72877398 0.69769113 0.67097703\n",
      " 0.66833397 0.67049655 0.66258921 0.623228   0.63740416 0.60487972\n",
      " 0.61593233 0.59930975 0.35739716 0.33478952 0.28950877 0.27483019\n",
      " 0.33380662 0.32869527 0.42214021 0.48764772 0.4272515  0.37509011\n",
      " 0.38507243 0.41806248 0.43624362 0.47026759 0.50706792 0.5443868\n",
      " 0.58078259 0.6144914  0.64409471 0.66889769 0.6889419  0.70480418\n",
      " 0.71729308 0.72716117 0.73490494 0.74069583 0.74442255 0.745803\n",
      " 0.74452657 0.74037975 0.73334026 0.72362143]\n",
      "21 day output [[0.71166885]]\n",
      "22 day input [0.86151455 0.88265868 0.88490858 0.85463405 0.91583838 0.94122022\n",
      " 0.95624816 0.94938952 0.93715729 0.9614687  0.99698564 0.97702099\n",
      " 0.96948509 0.99257329 0.94912741 0.8995871  0.9121033  0.92202003\n",
      " 0.90218643 0.92549314 0.98016641 0.97300193 0.99062935 1.\n",
      " 0.97887774 0.97184418 0.92903172 0.91780432 0.92704392 0.94309869\n",
      " 0.93916696 0.89124314 0.83853568 0.83569596 0.804373   0.82743933\n",
      " 0.85559515 0.86105593 0.82374784 0.82518942 0.80968086 0.79532991\n",
      " 0.81072929 0.78019265 0.77073453 0.78604659 0.81046718 0.83082499\n",
      " 0.83049742 0.82837857 0.82311443 0.82274301 0.8261288  0.80505013\n",
      " 0.79397565 0.78038929 0.72877398 0.69769113 0.67097703 0.66833397\n",
      " 0.67049655 0.66258921 0.623228   0.63740416 0.60487972 0.61593233\n",
      " 0.59930975 0.35739716 0.33478952 0.28950877 0.27483019 0.33380662\n",
      " 0.32869527 0.42214021 0.48764772 0.4272515  0.37509011 0.38507243\n",
      " 0.41806248 0.43624362 0.47026759 0.50706792 0.5443868  0.58078259\n",
      " 0.6144914  0.64409471 0.66889769 0.6889419  0.70480418 0.71729308\n",
      " 0.72716117 0.73490494 0.74069583 0.74442255 0.745803   0.74452657\n",
      " 0.74037975 0.73334026 0.72362143 0.71166885]\n",
      "22 day output [[0.6981221]]\n",
      "23 day input [0.88265868 0.88490858 0.85463405 0.91583838 0.94122022 0.95624816\n",
      " 0.94938952 0.93715729 0.9614687  0.99698564 0.97702099 0.96948509\n",
      " 0.99257329 0.94912741 0.8995871  0.9121033  0.92202003 0.90218643\n",
      " 0.92549314 0.98016641 0.97300193 0.99062935 1.         0.97887774\n",
      " 0.97184418 0.92903172 0.91780432 0.92704392 0.94309869 0.93916696\n",
      " 0.89124314 0.83853568 0.83569596 0.804373   0.82743933 0.85559515\n",
      " 0.86105593 0.82374784 0.82518942 0.80968086 0.79532991 0.81072929\n",
      " 0.78019265 0.77073453 0.78604659 0.81046718 0.83082499 0.83049742\n",
      " 0.82837857 0.82311443 0.82274301 0.8261288  0.80505013 0.79397565\n",
      " 0.78038929 0.72877398 0.69769113 0.67097703 0.66833397 0.67049655\n",
      " 0.66258921 0.623228   0.63740416 0.60487972 0.61593233 0.59930975\n",
      " 0.35739716 0.33478952 0.28950877 0.27483019 0.33380662 0.32869527\n",
      " 0.42214021 0.48764772 0.4272515  0.37509011 0.38507243 0.41806248\n",
      " 0.43624362 0.47026759 0.50706792 0.5443868  0.58078259 0.6144914\n",
      " 0.64409471 0.66889769 0.6889419  0.70480418 0.71729308 0.72716117\n",
      " 0.73490494 0.74069583 0.74442255 0.745803   0.74452657 0.74037975\n",
      " 0.73334026 0.72362143 0.71166885 0.69812208]\n",
      "23 day output [[0.6837444]]\n",
      "24 day input [0.88490858 0.85463405 0.91583838 0.94122022 0.95624816 0.94938952\n",
      " 0.93715729 0.9614687  0.99698564 0.97702099 0.96948509 0.99257329\n",
      " 0.94912741 0.8995871  0.9121033  0.92202003 0.90218643 0.92549314\n",
      " 0.98016641 0.97300193 0.99062935 1.         0.97887774 0.97184418\n",
      " 0.92903172 0.91780432 0.92704392 0.94309869 0.93916696 0.89124314\n",
      " 0.83853568 0.83569596 0.804373   0.82743933 0.85559515 0.86105593\n",
      " 0.82374784 0.82518942 0.80968086 0.79532991 0.81072929 0.78019265\n",
      " 0.77073453 0.78604659 0.81046718 0.83082499 0.83049742 0.82837857\n",
      " 0.82311443 0.82274301 0.8261288  0.80505013 0.79397565 0.78038929\n",
      " 0.72877398 0.69769113 0.67097703 0.66833397 0.67049655 0.66258921\n",
      " 0.623228   0.63740416 0.60487972 0.61593233 0.59930975 0.35739716\n",
      " 0.33478952 0.28950877 0.27483019 0.33380662 0.32869527 0.42214021\n",
      " 0.48764772 0.4272515  0.37509011 0.38507243 0.41806248 0.43624362\n",
      " 0.47026759 0.50706792 0.5443868  0.58078259 0.6144914  0.64409471\n",
      " 0.66889769 0.6889419  0.70480418 0.71729308 0.72716117 0.73490494\n",
      " 0.74069583 0.74442255 0.745803   0.74452657 0.74037975 0.73334026\n",
      " 0.72362143 0.71166885 0.69812208 0.68374437]\n",
      "24 day output [[0.6693435]]\n",
      "25 day input [0.85463405 0.91583838 0.94122022 0.95624816 0.94938952 0.93715729\n",
      " 0.9614687  0.99698564 0.97702099 0.96948509 0.99257329 0.94912741\n",
      " 0.8995871  0.9121033  0.92202003 0.90218643 0.92549314 0.98016641\n",
      " 0.97300193 0.99062935 1.         0.97887774 0.97184418 0.92903172\n",
      " 0.91780432 0.92704392 0.94309869 0.93916696 0.89124314 0.83853568\n",
      " 0.83569596 0.804373   0.82743933 0.85559515 0.86105593 0.82374784\n",
      " 0.82518942 0.80968086 0.79532991 0.81072929 0.78019265 0.77073453\n",
      " 0.78604659 0.81046718 0.83082499 0.83049742 0.82837857 0.82311443\n",
      " 0.82274301 0.8261288  0.80505013 0.79397565 0.78038929 0.72877398\n",
      " 0.69769113 0.67097703 0.66833397 0.67049655 0.66258921 0.623228\n",
      " 0.63740416 0.60487972 0.61593233 0.59930975 0.35739716 0.33478952\n",
      " 0.28950877 0.27483019 0.33380662 0.32869527 0.42214021 0.48764772\n",
      " 0.4272515  0.37509011 0.38507243 0.41806248 0.43624362 0.47026759\n",
      " 0.50706792 0.5443868  0.58078259 0.6144914  0.64409471 0.66889769\n",
      " 0.6889419  0.70480418 0.71729308 0.72716117 0.73490494 0.74069583\n",
      " 0.74442255 0.745803   0.74452657 0.74037975 0.73334026 0.72362143\n",
      " 0.71166885 0.69812208 0.68374437 0.66934347]\n",
      "25 day output [[0.6556868]]\n",
      "26 day input [0.91583838 0.94122022 0.95624816 0.94938952 0.93715729 0.9614687\n",
      " 0.99698564 0.97702099 0.96948509 0.99257329 0.94912741 0.8995871\n",
      " 0.9121033  0.92202003 0.90218643 0.92549314 0.98016641 0.97300193\n",
      " 0.99062935 1.         0.97887774 0.97184418 0.92903172 0.91780432\n",
      " 0.92704392 0.94309869 0.93916696 0.89124314 0.83853568 0.83569596\n",
      " 0.804373   0.82743933 0.85559515 0.86105593 0.82374784 0.82518942\n",
      " 0.80968086 0.79532991 0.81072929 0.78019265 0.77073453 0.78604659\n",
      " 0.81046718 0.83082499 0.83049742 0.82837857 0.82311443 0.82274301\n",
      " 0.8261288  0.80505013 0.79397565 0.78038929 0.72877398 0.69769113\n",
      " 0.67097703 0.66833397 0.67049655 0.66258921 0.623228   0.63740416\n",
      " 0.60487972 0.61593233 0.59930975 0.35739716 0.33478952 0.28950877\n",
      " 0.27483019 0.33380662 0.32869527 0.42214021 0.48764772 0.4272515\n",
      " 0.37509011 0.38507243 0.41806248 0.43624362 0.47026759 0.50706792\n",
      " 0.5443868  0.58078259 0.6144914  0.64409471 0.66889769 0.6889419\n",
      " 0.70480418 0.71729308 0.72716117 0.73490494 0.74069583 0.74442255\n",
      " 0.745803   0.74452657 0.74037975 0.73334026 0.72362143 0.71166885\n",
      " 0.69812208 0.68374437 0.66934347 0.6556868 ]\n",
      "26 day output [[0.6434311]]\n",
      "27 day input [0.94122022 0.95624816 0.94938952 0.93715729 0.9614687  0.99698564\n",
      " 0.97702099 0.96948509 0.99257329 0.94912741 0.8995871  0.9121033\n",
      " 0.92202003 0.90218643 0.92549314 0.98016641 0.97300193 0.99062935\n",
      " 1.         0.97887774 0.97184418 0.92903172 0.91780432 0.92704392\n",
      " 0.94309869 0.93916696 0.89124314 0.83853568 0.83569596 0.804373\n",
      " 0.82743933 0.85559515 0.86105593 0.82374784 0.82518942 0.80968086\n",
      " 0.79532991 0.81072929 0.78019265 0.77073453 0.78604659 0.81046718\n",
      " 0.83082499 0.83049742 0.82837857 0.82311443 0.82274301 0.8261288\n",
      " 0.80505013 0.79397565 0.78038929 0.72877398 0.69769113 0.67097703\n",
      " 0.66833397 0.67049655 0.66258921 0.623228   0.63740416 0.60487972\n",
      " 0.61593233 0.59930975 0.35739716 0.33478952 0.28950877 0.27483019\n",
      " 0.33380662 0.32869527 0.42214021 0.48764772 0.4272515  0.37509011\n",
      " 0.38507243 0.41806248 0.43624362 0.47026759 0.50706792 0.5443868\n",
      " 0.58078259 0.6144914  0.64409471 0.66889769 0.6889419  0.70480418\n",
      " 0.71729308 0.72716117 0.73490494 0.74069583 0.74442255 0.745803\n",
      " 0.74452657 0.74037975 0.73334026 0.72362143 0.71166885 0.69812208\n",
      " 0.68374437 0.66934347 0.6556868  0.64343113]\n",
      "27 day output [[0.63307077]]\n",
      "28 day input [0.95624816 0.94938952 0.93715729 0.9614687  0.99698564 0.97702099\n",
      " 0.96948509 0.99257329 0.94912741 0.8995871  0.9121033  0.92202003\n",
      " 0.90218643 0.92549314 0.98016641 0.97300193 0.99062935 1.\n",
      " 0.97887774 0.97184418 0.92903172 0.91780432 0.92704392 0.94309869\n",
      " 0.93916696 0.89124314 0.83853568 0.83569596 0.804373   0.82743933\n",
      " 0.85559515 0.86105593 0.82374784 0.82518942 0.80968086 0.79532991\n",
      " 0.81072929 0.78019265 0.77073453 0.78604659 0.81046718 0.83082499\n",
      " 0.83049742 0.82837857 0.82311443 0.82274301 0.8261288  0.80505013\n",
      " 0.79397565 0.78038929 0.72877398 0.69769113 0.67097703 0.66833397\n",
      " 0.67049655 0.66258921 0.623228   0.63740416 0.60487972 0.61593233\n",
      " 0.59930975 0.35739716 0.33478952 0.28950877 0.27483019 0.33380662\n",
      " 0.32869527 0.42214021 0.48764772 0.4272515  0.37509011 0.38507243\n",
      " 0.41806248 0.43624362 0.47026759 0.50706792 0.5443868  0.58078259\n",
      " 0.6144914  0.64409471 0.66889769 0.6889419  0.70480418 0.71729308\n",
      " 0.72716117 0.73490494 0.74069583 0.74442255 0.745803   0.74452657\n",
      " 0.74037975 0.73334026 0.72362143 0.71166885 0.69812208 0.68374437\n",
      " 0.66934347 0.6556868  0.64343113 0.63307077]\n",
      "28 day output [[0.6249118]]\n",
      "29 day input [0.94938952 0.93715729 0.9614687  0.99698564 0.97702099 0.96948509\n",
      " 0.99257329 0.94912741 0.8995871  0.9121033  0.92202003 0.90218643\n",
      " 0.92549314 0.98016641 0.97300193 0.99062935 1.         0.97887774\n",
      " 0.97184418 0.92903172 0.91780432 0.92704392 0.94309869 0.93916696\n",
      " 0.89124314 0.83853568 0.83569596 0.804373   0.82743933 0.85559515\n",
      " 0.86105593 0.82374784 0.82518942 0.80968086 0.79532991 0.81072929\n",
      " 0.78019265 0.77073453 0.78604659 0.81046718 0.83082499 0.83049742\n",
      " 0.82837857 0.82311443 0.82274301 0.8261288  0.80505013 0.79397565\n",
      " 0.78038929 0.72877398 0.69769113 0.67097703 0.66833397 0.67049655\n",
      " 0.66258921 0.623228   0.63740416 0.60487972 0.61593233 0.59930975\n",
      " 0.35739716 0.33478952 0.28950877 0.27483019 0.33380662 0.32869527\n",
      " 0.42214021 0.48764772 0.4272515  0.37509011 0.38507243 0.41806248\n",
      " 0.43624362 0.47026759 0.50706792 0.5443868  0.58078259 0.6144914\n",
      " 0.64409471 0.66889769 0.6889419  0.70480418 0.71729308 0.72716117\n",
      " 0.73490494 0.74069583 0.74442255 0.745803   0.74452657 0.74037975\n",
      " 0.73334026 0.72362143 0.71166885 0.69812208 0.68374437 0.66934347\n",
      " 0.6556868  0.64343113 0.63307077 0.62491179]\n",
      "29 day output [[0.6190731]]\n",
      "[[0.4180624783039093], [0.43624362349510193], [0.4702675938606262], [0.5070679187774658], [0.5443868041038513], [0.5807825922966003], [0.6144914031028748], [0.644094705581665], [0.6688976883888245], [0.6889418959617615], [0.7048041820526123], [0.7172930836677551], [0.727161169052124], [0.734904944896698], [0.7406958341598511], [0.7444225549697876], [0.7458029985427856], [0.7445265650749207], [0.7403797507286072], [0.7333402633666992], [0.7236214280128479], [0.711668848991394], [0.6981220841407776], [0.6837443709373474], [0.6693434715270996], [0.6556867957115173], [0.6434311270713806], [0.6330707669258118], [0.6249117851257324], [0.6190730929374695]]\n"
     ]
    }
   ],
   "source": [
    "#demonstrate prediction for next 10 days\n",
    "from numpy import array\n",
    "\n",
    "lst_output = []\n",
    "n_steps = 100\n",
    "i = 0\n",
    "while(i<30):\n",
    "\n",
    "    if(len(temp_input)>100):\n",
    "        x_input=np.array(temp_input[1:])\n",
    "        print(\"{} day input {}\".format(i,x_input))\n",
    "        x_input=x_input.reshape(1,-1)\n",
    "        x_input=x_input.reshape(1,n_steps,1)\n",
    "        yhat=model.predict(x_input, verbose=0)\n",
    "        print(\"{} day output {}\".format(i,yhat))\n",
    "        temp_input.extend(yhat[0].tolist())\n",
    "        temp_input=temp_input[1:]\n",
    "        lst_output.extend(yhat.tolist())\n",
    "        i=i+1\n",
    "    else:\n",
    "        x_input=x_input.reshape((1,n_steps,1))\n",
    "        yhat=model.predict(x_input, verbose=0)\n",
    "        print(yhat[0])\n",
    "        temp_input.extend(yhat[0].tolist())\n",
    "        print(len(temp_input))\n",
    "        lst_output.extend(yhat.tolist())\n",
    "        i=i+1\n",
    "        \n",
    "print(lst_output)"
   ]
  },
  {
   "cell_type": "code",
   "execution_count": 37,
   "id": "4163604a-1ecb-46e3-86b8-24f793c44ff5",
   "metadata": {},
   "outputs": [],
   "source": [
    "day_new = np.arange(1,101)\n",
    "day_pred = np.arange(101,131)"
   ]
  },
  {
   "cell_type": "code",
   "execution_count": 38,
   "id": "fff4b2ae-f8c0-4513-ab0e-81922756899b",
   "metadata": {},
   "outputs": [
    {
     "data": {
      "text/plain": [
       "1009"
      ]
     },
     "execution_count": 38,
     "metadata": {},
     "output_type": "execute_result"
    }
   ],
   "source": [
    "len(df1)"
   ]
  },
  {
   "cell_type": "code",
   "execution_count": 39,
   "id": "a6ccf927-7877-4e3f-94ec-3a508135fae6",
   "metadata": {},
   "outputs": [],
   "source": [
    "df3=df1.tolist()\n",
    "df3.extend(lst_output)"
   ]
  },
  {
   "cell_type": "code",
   "execution_count": 40,
   "id": "bfdb63db-68bd-474a-8566-70b14385decd",
   "metadata": {},
   "outputs": [
    {
     "data": {
      "text/plain": [
       "[<matplotlib.lines.Line2D at 0x14828ec0150>]"
      ]
     },
     "execution_count": 40,
     "metadata": {},
     "output_type": "execute_result"
    },
    {
     "data": {
      "image/png": "[encoded data removed]",
      "text/plain": [
       "<Figure size 640x480 with 1 Axes>"
      ]
     },
     "metadata": {},
     "output_type": "display_data"
    }
   ],
   "source": [
    "plt.plot(day_new, scaler.inverse_transform(df1[909:]))\n",
    "plt.plot(day_pred,scaler.inverse_transform(lst_output))"
   ]
  },
  {
   "cell_type": "code",
   "execution_count": 41,
   "id": "8d47a3c6-1ea0-4bbd-abd8-af9c927a6415",
   "metadata": {},
   "outputs": [
    {
     "data": {
      "text/plain": [
       "[<matplotlib.lines.Line2D at 0x1481cf42210>]"
      ]
     },
     "execution_count": 41,
     "metadata": {},
     "output_type": "execute_result"
    },
    {
     "data": {
      "image/png": "[encoded data removed]",
      "text/plain": [
       "<Figure size 640x480 with 1 Axes>"
      ]
     },
     "metadata": {},
     "output_type": "display_data"
    }
   ],
   "source": [
    "df3 = df1.tolist()\n",
    "df3.extend(lst_output)\n",
    "plt.plot(df3[900:])"
   ]
  },
  {
   "cell_type": "code",
   "execution_count": 42,
   "id": "0dd57684-f7a3-4085-98bb-df77a0527684",
   "metadata": {},
   "outputs": [
    {
     "data": {
      "text/plain": [
       "[<matplotlib.lines.Line2D at 0x14829066a10>]"
      ]
     },
     "execution_count": 42,
     "metadata": {},
     "output_type": "execute_result"
    },
    {
     "data": {
      "image/png": "[encoded data removed]",
      "text/plain": [
       "<Figure size 640x480 with 1 Axes>"
      ]
     },
     "metadata": {},
     "output_type": "display_data"
    }
   ],
   "source": [
    "df3 = df1.tolist()\n",
    "df3.extend(lst_output)\n",
    "plt.plot(df3[1000:])"
   ]
  },
  {
   "cell_type": "code",
   "execution_count": null,
   "id": "70f08089-f8fd-4177-b9f4-73a15caa9b2a",
   "metadata": {},
   "outputs": [],
   "source": []
  }
 ],
 "metadata": {
  "kernelspec": {
   "display_name": "Python 3 (ipykernel)",
   "language": "python",
   "name": "python3"
  },
  "language_info": {
   "codemirror_mode": {
    "name": "ipython",
    "version": 3
   },
   "file_extension": ".py",
   "mimetype": "text/x-python",
   "name": "python",
   "nbconvert_exporter": "python",
   "pygments_lexer": "ipython3",
   "version": "3.11.7"
  }
 },
 "nbformat": 4,
 "nbformat_minor": 5
}
